{
 "cells": [
  {
   "cell_type": "markdown",
   "metadata": {},
   "source": [
    "# EllipticCurves\n",
    "$\\newcommand{DS}{\\displaystyle}$\n",
    "$\\newcommand{mbb}[1]{\\mathbb{#1}}$\n",
    "$\\newcommand{set}[1]{\\left\\{ #1 \\right\\}}$\n",
    "$\\newcommand{sp}{\\text{ }}$\n",
    "$\\newcommand{def}{\\stackrel{def}=}$\n",
    "$\\newcommand{mc}[1]{\\mathcal{#1}}$\n",
    "$\\newcommand{system}[1]{\\begin{cases} #1 \\end{cases}}$\n",
    "$\\newcommand{bmat}[1]{\\begin{bmatrix} #1 \\end{bmatrix}}$\n",
    "$\\newcommand{newline}{\\\\ \\DS}$\n",
    "$\\newcommand{ginv}[1]{#1^{op}}$\n",
    "$\\newcommand{span}[1]{\\langle #1 \\rangle}$\n",
    "$\\newcommand{space}{\\text{ }}$\n",
    "## Def\n",
    "**Elliptic curve** is a curve which is defined as follows:\n",
    "$$\n",
    "\\DS\n",
    "y^2+a_1xy+a_3y=x^3+a_2x^2+a_4x+a_5\n",
    "$$\n",
    "Elliptic curves can be defined over different fields(e.g. $\\mbb{C},\\mbb{Q},\\mbb{F}_p,$etc.)"
   ]
  },
  {
   "cell_type": "markdown",
   "metadata": {},
   "source": [
    "## Groups on elliptic curves\n",
    "The group on elliptic curve is defined by intersection of an curve by line, the sum of points on this line is assumed to be $0$:\n",
    "* $P+Q+R=0$\n",
    "* $P+Q+Q=0$ (point in infinity)\n",
    "* $P+Q+0=0$ (no point in infinity, line parallely to $Y$)\n",
    "* $P+P+0=0$ (line has intersection only in one point)"
   ]
  },
  {
   "cell_type": "markdown",
   "metadata": {},
   "source": [
    "## Def\n",
    "**Modular group** is a group of linear fractional transform defined in upper half of complex plane:\n",
    "$$\n",
    "z\\mapsto \\frac{az+b}{cz+d}\n",
    "$$"
   ]
  },
  {
   "cell_type": "markdown",
   "metadata": {},
   "source": [
    "Where $ad-bc=1$<br>"
   ]
  },
  {
   "cell_type": "markdown",
   "metadata": {},
   "source": [
    "## Def \n",
    "**Special linear group** is a group of $n \\times n$ matrices with determinant $1$:\n",
    "$$\n",
    "\\DS\n",
    "SL(n,\\mbb{F})=(\\set{A| A\\in Mat_{n\\times n}(\\mbb{F}), det(A)=1},\\times)\n",
    "$$"
   ]
  },
  {
   "cell_type": "markdown",
   "metadata": {},
   "source": [
    "## Def\n",
    "**Prime ideal** of a ring $A$, is ideal $P$, s.t. $\\forall r\\in A: arb\\in P\\Rightarrow a\\in P\\lor b\\in P$"
   ]
  },
  {
   "cell_type": "markdown",
   "metadata": {},
   "source": [
    "## Def\n",
    "**Weierstrass equation** is another form of elliptic curve that can be achieved by linear coordinate transformation. The generalized Wierstrass equation is as follows:\n",
    "$$\n",
    "\\DS\n",
    "y^2 = x^3+ax+b\n",
    "$$\n",
    "For elliptic curve to be non-singular, the RHS discriminant should not be $0$: $\\Delta = -16(4a^3+27b^2) \\ne 0$"
   ]
  },
  {
   "cell_type": "markdown",
   "metadata": {},
   "source": [
    "## Th(Hasse)\n",
    "[Statement(slide 11)](https://math.berkeley.edu/~ribet/parc.pdf)"
   ]
  },
  {
   "cell_type": "markdown",
   "metadata": {},
   "source": [
    "Consider an equation (probably over field $\\mbb{Z}$):\n",
    "$$\n",
    "\\DS\n",
    "y^2 = x^3+ax+b\\sp mod\\sp p\n",
    "$$"
   ]
  },
  {
   "cell_type": "markdown",
   "metadata": {},
   "source": [
    "Let $N_p$ be a number of solutions for this equation, then following holds:\n",
    "$$\n",
    "\\DS\n",
    "|N_p - p|<2\\sqrt{p}\n",
    "$$"
   ]
  },
  {
   "cell_type": "markdown",
   "metadata": {},
   "source": [
    "## Def\n",
    "[Statement+explanation(slide 19)](https://math.berkeley.edu/~ribet/parc.pdf)\n"
   ]
  },
  {
   "cell_type": "markdown",
   "metadata": {},
   "source": [
    "**Conductor** is an integer such that its' divisors $p$ lead to singularity for an elliptic curve equation modulo $p$"
   ]
  },
  {
   "cell_type": "markdown",
   "metadata": {},
   "source": [
    "## Def\n",
    "**Endomorphism** is map(may not be invertible) of obaject into itself:\n",
    "$$\n",
    "\\DS\n",
    "f: V\\to V\n",
    "$$"
   ]
  },
  {
   "cell_type": "markdown",
   "metadata": {},
   "source": [
    "## Def\n",
    "**Isogeny** from elliptic curve $E_1$ to elliptic curve $E_2$ is a morphism $\\phi: E_1 \\to E_2$, s.t. $\\phi(O_{E_1})=O_{E_2}$. Isogenies are homomorphisms of elliptic curves over field $\\mbb{F}$, denoted by $Hom_{\\mbb{F}}(E_1,E_2)$\n",
    "<br>\n",
    "Additional statement from [this presentation](http://ecc2011.loria.fr/slides/summerschool-robert.pdf):\n",
    "$$\n",
    "\\DS\n",
    "\\phi(P+Q) = \\phi(P)+\\phi(Q)\n",
    "$$"
   ]
  },
  {
   "cell_type": "markdown",
   "metadata": {},
   "source": [
    "## Def\n",
    "**Endomorphisms** of elliptic curve $E$:\n",
    "$$\n",
    "End_{\\mbb{F}}(E) \\def Hom_{\\mbb{F}}(E,E)\n",
    "$$\n",
    "\n",
    "Endomorphisms of elliptic curve are ring."
   ]
  },
  {
   "cell_type": "markdown",
   "metadata": {},
   "source": [
    "## Def\n",
    "Elliptic curve $E$ is said to have a **complex multiplication(CM)** if its ring of endomorphisms is strictly larger then ring of integers:\n",
    "$$\n",
    "\\DS\n",
    "End_{\\mbb{C}}(E)\\ne\\mbb{Z}\n",
    "$$"
   ]
  },
  {
   "cell_type": "markdown",
   "metadata": {},
   "source": [
    "## Hasse-Weil $\\zeta$-function for elliptic curves over $\\mbb{Q}$\n"
   ]
  },
  {
   "cell_type": "markdown",
   "metadata": {},
   "source": [
    "Source: [Wikipedia](https://en.wikipedia.org/wiki/Hasse%E2%80%93Weil_zeta_function)"
   ]
  },
  {
   "cell_type": "markdown",
   "metadata": {},
   "source": [
    "Hasse-Weil $\\zeta$-function extends Riemann $\\zeta$-function on algebraic varaities. "
   ]
  },
  {
   "cell_type": "markdown",
   "metadata": {},
   "source": [
    "For elliptic curve $E$ with conductor $N$, Hasse-Weil $\\zeta$-function is as follow:\n",
    "$$\n",
    "Z_{E,\\mbb{Q}}(s) = \\frac{\\zeta(s)\\zeta(s-1)}{L(s,E)}\n",
    "$$"
   ]
  },
  {
   "cell_type": "markdown",
   "metadata": {},
   "source": [
    "Where $L$ is $L$-function:<br>\n",
    "$\n",
    "\\DS\n",
    "L=\\prod_{p} L_p(s,E)^{-1}\n",
    "$\n"
   ]
  },
  {
   "cell_type": "markdown",
   "metadata": {},
   "source": [
    "Where for prime $p$, $L_p$ is as follows:\n",
    "<br>\n",
    "$\n",
    "\\DS\n",
    "L_p(s,E)=\n",
    "\\system{\n",
    "    1-a_pp^{-s}+p^{1-2s}, \\text{if } p \\nmid N\\\\\n",
    "    1-a_pp^{-s}, \\text{if } p | N, p^2 \\nmid N\\\\\n",
    "    1, \\text{if }p^2 | N\n",
    "}\n",
    "$"
   ]
  },
  {
   "cell_type": "markdown",
   "metadata": {},
   "source": [
    "$a_p = p+1-\\#E(\\mbb{GF}_p)$ or $a_p = \\pm 1$(for multiplicative reduction)"
   ]
  },
  {
   "cell_type": "markdown",
   "metadata": {},
   "source": [
    "Where $\\#E(\\mbb{GF}_p)$ is an order of elliptic curve(i.e. number of points) over Galois field of size $p$."
   ]
  },
  {
   "cell_type": "code",
   "execution_count": 19,
   "metadata": {},
   "outputs": [],
   "source": [
    "from helpers import sload\n",
    "from tqdm.notebook import *"
   ]
  },
  {
   "cell_type": "code",
   "execution_count": 20,
   "metadata": {},
   "outputs": [],
   "source": [
    "def get_coefs(E_id: str, p_max: int, normalize = True):\n",
    "    conductor = EllipticCurve(E_id).conductor()\n",
    "    P = Primes()\n",
    "    p = 2\n",
    "    a = []\n",
    "    while p<p_max:\n",
    "        if conductor%p == 0:\n",
    "            a.append(0)\n",
    "            p = P.next(p)\n",
    "            continue\n",
    "        K = GF(p)    \n",
    "        E = EllipticCurve(K, E_id)\n",
    "        if normalize:\n",
    "            a.append((p+1-E.order())/sqrt(p))\n",
    "        else:\n",
    "            a.append(p+1-E.order())\n",
    "        p = P.next(p)\n",
    "    return a\n",
    "        "
   ]
  },
  {
   "cell_type": "code",
   "execution_count": 21,
   "metadata": {},
   "outputs": [
    {
     "data": {
      "text/plain": [
       "[-2, -2, -3, -5]"
      ]
     },
     "execution_count": 21,
     "metadata": {},
     "output_type": "execute_result"
    }
   ],
   "source": [
    "get_coefs(\"389a\", 10, False)"
   ]
  },
  {
   "cell_type": "code",
   "execution_count": 22,
   "metadata": {},
   "outputs": [
    {
     "data": {
      "text/plain": [
       "[0, 1, -2, -2, 2, -3, 4, -5, 0, 1, 6]"
      ]
     },
     "execution_count": 22,
     "metadata": {},
     "output_type": "execute_result"
    }
   ],
   "source": [
    "EllipticCurve(\"389a\").anlist(10)"
   ]
  },
  {
   "cell_type": "code",
   "execution_count": 23,
   "metadata": {},
   "outputs": [],
   "source": [
    "def get_coefs_modular(E_id: list, p_max: int, normalize = True):\n",
    "    E = EllipticCurve(E_id)\n",
    "    conductor = E.conductor()\n",
    "    _a = E.anlist(p_max)\n",
    "    a=[]\n",
    "    p = 2\n",
    "    P = Primes()\n",
    "    while p<p_max:\n",
    "        if conductor%p != 0:\n",
    "            if normalize:\n",
    "                a.append(_a[p]/sqrt(p))\n",
    "            else:\n",
    "                a.append(_a[p])\n",
    "        else:\n",
    "            a.append(0)\n",
    "        p = P.next(p)\n",
    "    a.append(conductor)\n",
    "    a.append(E.lseries()(1))\n",
    "    return a\n",
    "\n",
    "def get_coefs_modular2(E: EllipticCurve,p_max: int, normalize = True):\n",
    "    conductor = E.conductor()\n",
    "    _a = E.anlist(p_max)\n",
    "    a=[]\n",
    "    p = 2\n",
    "    P = Primes()\n",
    "    while p<p_max:\n",
    "        if conductor%p != 0:\n",
    "            if normalize:\n",
    "                a.append(_a[p]/sqrt(p))\n",
    "            else:\n",
    "                a.append(_a[p])\n",
    "        else:\n",
    "            a.append(0)\n",
    "        p = P.next(p)\n",
    "    a.append(conductor)\n",
    "    a.append(E.lseries()(1))\n",
    "    return a"
   ]
  },
  {
   "cell_type": "code",
   "execution_count": 24,
   "metadata": {},
   "outputs": [
    {
     "name": "stdout",
     "output_type": "stream",
     "text": [
      "CPU times: user 29.6 ms, sys: 1.58 ms, total: 31.1 ms\n",
      "Wall time: 31.1 ms\n"
     ]
    }
   ],
   "source": [
    "%%time\n",
    "am = get_coefs_modular(\"389a\",10000, False)"
   ]
  },
  {
   "cell_type": "code",
   "execution_count": 25,
   "metadata": {},
   "outputs": [
    {
     "name": "stdout",
     "output_type": "stream",
     "text": [
      "CPU times: user 1.53 s, sys: 60.8 ms, total: 1.59 s\n",
      "Wall time: 1.6 s\n"
     ]
    }
   ],
   "source": [
    "%%time\n",
    "a = get_coefs(\"389a\", 10000, False)"
   ]
  },
  {
   "cell_type": "code",
   "execution_count": 26,
   "metadata": {},
   "outputs": [
    {
     "data": {
      "text/plain": [
       "False"
      ]
     },
     "execution_count": 26,
     "metadata": {},
     "output_type": "execute_result"
    }
   ],
   "source": [
    "am == a"
   ]
  },
  {
   "cell_type": "markdown",
   "metadata": {},
   "source": [
    "**NOTE:** modular coefficients $a_p, p\\in \\mc{P}$(where $\\mc{P}$ – prime numbers) will be always equal to coefficients computed in non-modular way due to [Modularity theorem(aka Taniyama-Weil-Shimura theorem)](https://en.wikipedia.org/wiki/Modularity_theorem)\n",
    "## Building dataset of CM vs. non-CM curves"
   ]
  },
  {
   "cell_type": "code",
   "execution_count": 27,
   "metadata": {},
   "outputs": [],
   "source": [
    "DATASET_SIZE = 5000\n",
    "P_MAX = 1000\n",
    "NORMALIZE = False"
   ]
  },
  {
   "cell_type": "code",
   "execution_count": 28,
   "metadata": {},
   "outputs": [],
   "source": [
    "c = CremonaDatabase()\n",
    "def find_cm():\n",
    "    # We may have used LMFDB API for this(just\n",
    "    # by using j-invariant filtering)\n",
    "    # But better not to use any network stuff\n",
    "    # since it may change rapidly\n",
    "    cm = []\n",
    "    start,stop = c.smallest_conductor(), c.largest_conductor()\n",
    "    for conductor in tnrange(start,stop,1):\n",
    "        for curve in c.curves(conductor):\n",
    "            E = EllipticCurve(str(conductor)+curve)\n",
    "            if E.has_cm():\n",
    "                cm.append(str(conductor)+curve)\n",
    "    return cm\n",
    "cm = sload(\"cm.pi\", find_cm)"
   ]
  },
  {
   "cell_type": "code",
   "execution_count": 29,
   "metadata": {},
   "outputs": [],
   "source": [
    "assert cm is not None\n",
    "assert cm.__len__()>0\n",
    "assert DATASET_SIZE>0"
   ]
  },
  {
   "cell_type": "code",
   "execution_count": 30,
   "metadata": {},
   "outputs": [],
   "source": [
    "non_cm_sz = DATASET_SIZE - cm.__len__()\n",
    "_prop = float(cm.__len__())/float(DATASET_SIZE)\n",
    "assert 0.3 < _prop and _prop < 0.7, \"Imbalanced dataset!\""
   ]
  },
  {
   "cell_type": "code",
   "execution_count": 31,
   "metadata": {},
   "outputs": [
    {
     "data": {
      "text/plain": [
       "Elliptic Curve defined by y^2 + x*y + y = x^3 - 241796*x + 45743250 over Rational Field"
      ]
     },
     "execution_count": 31,
     "metadata": {},
     "output_type": "execute_result"
    }
   ],
   "source": [
    "def get_random_non_cm():\n",
    "    curve = c.random()\n",
    "    while curve.has_cm():\n",
    "        curve = c.random()\n",
    "    return curve\n",
    "get_random_non_cm()"
   ]
  },
  {
   "cell_type": "code",
   "execution_count": 32,
   "metadata": {},
   "outputs": [
    {
     "data": {
      "application/vnd.jupyter.widget-view+json": {
       "model_id": "86db5c49a5e443fea8e55caed210fc56",
       "version_major": 2,
       "version_minor": 0
      },
      "text/plain": [
       "  0%|          | 0/2330 [00:00<?, ?it/s]"
      ]
     },
     "metadata": {},
     "output_type": "display_data"
    }
   ],
   "source": [
    "D=[]\n",
    "for i in tnrange(non_cm_sz):\n",
    "    D.append(get_coefs_modular2(get_random_non_cm(), P_MAX, NORMALIZE)+[0])"
   ]
  },
  {
   "cell_type": "code",
   "execution_count": 33,
   "metadata": {},
   "outputs": [
    {
     "data": {
      "application/vnd.jupyter.widget-view+json": {
       "model_id": "42a08d153a3745b6b26850215cae58bc",
       "version_major": 2,
       "version_minor": 0
      },
      "text/plain": [
       "  0%|          | 0/2670 [00:00<?, ?it/s]"
      ]
     },
     "metadata": {},
     "output_type": "display_data"
    }
   ],
   "source": [
    "for i in tnrange(len(cm)):\n",
    "    D.append(get_coefs_modular(cm[i], P_MAX, NORMALIZE)+[1])"
   ]
  },
  {
   "cell_type": "code",
   "execution_count": 34,
   "metadata": {},
   "outputs": [],
   "source": [
    "assert len(D) == DATASET_SIZE"
   ]
  },
  {
   "cell_type": "code",
   "execution_count": 35,
   "metadata": {},
   "outputs": [
    {
     "data": {
      "application/vnd.jupyter.widget-view+json": {
       "model_id": "686afe7e75334f9aacb3bf07d7c0915f",
       "version_major": 2,
       "version_minor": 0
      },
      "text/plain": [
       "  0%|          | 0/5000 [00:00<?, ?it/s]"
      ]
     },
     "metadata": {},
     "output_type": "display_data"
    }
   ],
   "source": [
    "header = \"\"\n",
    "P = Primes()\n",
    "p = 2\n",
    "n_as = 0\n",
    "while p<P_MAX:\n",
    "    header+=\"A\"+str(p)+\",\"\n",
    "    p=P.next(p)\n",
    "    n_as+=1\n",
    "    \n",
    "header += \"CONDUCTOR,L1,CM\\n\"\n",
    "n_as += 1\n",
    "\n",
    "\n",
    "def line2csv(a: list):\n",
    "    line = \"\"\n",
    "    for i in range(len(a)):\n",
    "        line += str(float(a[i]))\n",
    "        if i != len(a) - 1:\n",
    "            line += \",\"\n",
    "    return line + \"\\n\"\n",
    "\n",
    "if NORMALIZE:\n",
    "    OUTPUT_NAME=\"output/dataset.csv\"\n",
    "else:\n",
    "    OUTPUT_NAME=\"output/dataset_unnormalized.csv\"\n",
    "\n",
    "with open(OUTPUT_NAME, \"w+\") as f:\n",
    "    f.write(header)\n",
    "    for i in tnrange(len(D)):\n",
    "        assert(len(D[i])==(n_as+2)) # We now have conductor added, so +1 number of coefs\n",
    "        f.write(line2csv(D[i]))"
   ]
  },
  {
   "cell_type": "markdown",
   "metadata": {},
   "source": [
    "## Def\n",
    "**$j$-invariant** is a function which is defined on upper-half of a complex plane:\n",
    "$$\n",
    "\\DS\n",
    "\\tau \\in \\mbb{C}, Im(\\tau)>0\n",
    "\\newline\n",
    "j(\\tau)=1728\\frac{g_2(\\tau)}{\\Delta(\\tau)}\n",
    "$$"
   ]
  },
  {
   "cell_type": "markdown",
   "metadata": {},
   "source": [
    "Where:\n",
    "* $\\DS g_2(\\tau) = 60 \\sum_{(m,n)\\ne (0,0)}(m+n\\tau)^{-4}$\n",
    "* $\\DS g_3(\\tau) = 140 \\sum_{(m,n)\\ne(0,0)}(m+n\\tau)^{-6}$\n",
    "* $\\DS \\Delta(\\tau) = g_2(\\tau)^3+27g_3(\\tau)^2$"
   ]
  },
  {
   "cell_type": "markdown",
   "metadata": {},
   "source": [
    "## Finding elliptic curves with same j-invariants and conductors"
   ]
  },
  {
   "cell_type": "code",
   "execution_count": null,
   "metadata": {},
   "outputs": [],
   "source": [
    "c = CremonaDatabase()"
   ]
  },
  {
   "cell_type": "code",
   "execution_count": null,
   "metadata": {},
   "outputs": [],
   "source": [
    "def dict2lists(d: dict):\n",
    "    result = []\n",
    "    for key in d.keys():\n",
    "        if len(d[key])>1:\n",
    "            result.append(d[key])\n",
    "    return result\n",
    "\n",
    "def find_same():\n",
    "    # We may have used LMFDB API for this(just\n",
    "    # by using j-invariant filtering)\n",
    "    # But better not to use any network stuff\n",
    "    # since it may change rapidly\n",
    "    _same = []\n",
    "    start,stop = c.smallest_conductor(), c.largest_conductor()\n",
    "    for conductor in tnrange(start,stop,1):\n",
    "        j_invariants = dict()\n",
    "        flag = False\n",
    "        for curve in c.curves(conductor):\n",
    "            E = EllipticCurve(str(conductor)+curve)\n",
    "            j = E.j_invariant()\n",
    "            if j in j_invariants:\n",
    "                j_invariants[j].append(str(conductor)+curve)\n",
    "            else:\n",
    "                j_invariants[j] = [str(conductor)+curve]\n",
    "        _same += dict2lists(j_invariants)\n",
    "    return _same"
   ]
  },
  {
   "cell_type": "code",
   "execution_count": null,
   "metadata": {},
   "outputs": [],
   "source": [
    "same = sload(\"same.pi\",find_same)\n",
    "same"
   ]
  },
  {
   "cell_type": "code",
   "execution_count": null,
   "metadata": {},
   "outputs": [],
   "source": [
    "len(same)"
   ]
  },
  {
   "cell_type": "markdown",
   "metadata": {},
   "source": [
    "371362? That's a lot. So lets verify that all list of curves here really have the same j-invariants and conductors:"
   ]
  },
  {
   "cell_type": "code",
   "execution_count": null,
   "metadata": {},
   "outputs": [],
   "source": [
    "for l in tqdm(same):\n",
    "    E0 = EllipticCurve(l[0][:-1])\n",
    "    conductor = E0.conductor()\n",
    "    j = E0.j_invariant()\n",
    "    for curve in l:\n",
    "        E = EllipticCurve(curve[:-1])\n",
    "        assert E.conductor()==conductor and E.j_invariant() == j"
   ]
  },
  {
   "cell_type": "markdown",
   "metadata": {},
   "source": [
    "### Simple statistics"
   ]
  },
  {
   "cell_type": "code",
   "execution_count": null,
   "metadata": {},
   "outputs": [],
   "source": [
    "conductors = []\n",
    "j_invariants = []\n",
    "for group in tqdm(same):\n",
    "    E = EllipticCurve(group[0][:-1])\n",
    "    conductors.append(E.conductor())\n",
    "    j_invariants.append(E.j_invariant())"
   ]
  },
  {
   "cell_type": "code",
   "execution_count": null,
   "metadata": {},
   "outputs": [],
   "source": [
    "X=conductors[:50000]\n",
    "Y=j_invariants[:50000]\n",
    "data=[]\n",
    "for i in tnrange(len(X)):\n",
    "    data.append([X[i],Y[i]])"
   ]
  },
  {
   "cell_type": "code",
   "execution_count": null,
   "metadata": {},
   "outputs": [],
   "source": [
    "scatter_plot(data)"
   ]
  },
  {
   "cell_type": "code",
   "execution_count": null,
   "metadata": {},
   "outputs": [],
   "source": [
    "r.cor(X,Y)"
   ]
  },
  {
   "cell_type": "code",
   "execution_count": null,
   "metadata": {},
   "outputs": [],
   "source": [
    "X[-1]"
   ]
  },
  {
   "cell_type": "markdown",
   "metadata": {},
   "source": [
    "## Def\n",
    "**Lattice** is a set of vectors in euclidean space that forms discrete group by multiplication. "
   ]
  },
  {
   "cell_type": "markdown",
   "metadata": {},
   "source": [
    "## Def\n",
    "**Symmetric group $S(M)$ over set $M$** is a group of all permuataion of elements in set $M$."
   ]
  },
  {
   "cell_type": "markdown",
   "metadata": {},
   "source": [
    "## Def\n",
    "**Left group action** on set $M$ if there is homomorphism of group $G$ into $S(M)$: $\\Phi: G\\to S(M)$"
   ]
  },
  {
   "cell_type": "markdown",
   "metadata": {},
   "source": [
    "## Def\n",
    "**Inverse group of group $(G,\\cdot)$** is group $\\ginv{G} = (G, *)$ where $g*h=h\\cdot g, g,h\\in G$"
   ]
  },
  {
   "cell_type": "markdown",
   "metadata": {},
   "source": [
    "## Def\n",
    "**Right group action** on set $M$ if there is homomorphism $\\rho: \\ginv{G} \\to S(M)$"
   ]
  },
  {
   "cell_type": "markdown",
   "metadata": {},
   "source": [
    "## Def\n",
    "**Orbit of element $m\\in M$**: $Orb(m) \\def Gm = \\set{gm | g\\in G}$"
   ]
  },
  {
   "cell_type": "markdown",
   "metadata": {},
   "source": [
    "Orbits also define partitioning of set $M$ into equivalence classes: $n\\sim_G m\\Leftrightarrow Gn = Gm \\Leftrightarrow Orb(n)=Orb(m)$"
   ]
  },
  {
   "cell_type": "markdown",
   "metadata": {},
   "source": [
    "## Def\n",
    "Let $X$ be a set and $\\mc{T}$ be a system of subsets of $X$. Then $\\mc{T}$ is called **topology** of $X$ if:\n",
    "* $\\DS \\bigcup_{M\\in A} M \\in \\mc{T}$ where $A\\subset \\mc{T}$\n",
    "* $\\DS \\bigcap_{M\\in A} M \\in \\mc{T}$ where $A\\subset \\mc{T}$\n",
    "* $X,\\emptyset\\in\\mc{T}$"
   ]
  },
  {
   "cell_type": "markdown",
   "metadata": {},
   "source": [
    "The pair $(X,\\mc{T})$ is called **topological space**, $\\mc{T}$ contain a sets which are **open** by definition."
   ]
  },
  {
   "cell_type": "markdown",
   "metadata": {},
   "source": [
    "## Def\n",
    "**Compact space** is a topological space for which exists covering by open sets, such that it has a finite subcover:\n",
    "<br>\n",
    "$\n",
    "\\DS\n",
    "X=\\bigcup_{x\\in C} x\n",
    "\\newline\n",
    "F\\subset C\n",
    "\\newline\n",
    "X=\\bigcup_{x\\in F} x\n",
    "$"
   ]
  },
  {
   "cell_type": "markdown",
   "metadata": {},
   "source": [
    "## Def\n",
    "**Compactification of space $X$** is defined as $(Y,f)$ where $Y$ is compact space and $f:X\\to Y$ dense(?) in $Y$."
   ]
  },
  {
   "cell_type": "markdown",
   "metadata": {},
   "source": [
    "## Def\n",
    "**(reminder)**<br>\n",
    "A cyclic group is a group $G=\\span{a},a\\in G$"
   ]
  },
  {
   "cell_type": "markdown",
   "metadata": {},
   "source": [
    "## Def \n",
    "**Kernel of isogeny $\\phi: E_1\\to E_2$** is a set of points mapped to $O_{E_2}$:\n",
    "$$\n",
    "\\DS\n",
    "Ker(\\phi)=\\set{\\phi(x)=O_{E_2}|x\\in E_1}\n",
    "$$"
   ]
  },
  {
   "cell_type": "markdown",
   "metadata": {},
   "source": [
    "## Def\n",
    "A **cyclic isogeny** is isogeny which kernel is cyclic group: $Ker(\\phi)=\\span{a},a\\in E_1$"
   ]
  },
  {
   "cell_type": "markdown",
   "metadata": {},
   "source": [
    "## Def \n",
    "**Upper-half** plane $\\mc{H}=\\set{x\\in\\mc{C}|Im(x)>0}$"
   ]
  },
  {
   "cell_type": "markdown",
   "metadata": {},
   "source": [
    "## Note\n",
    "Group $SL(2,\\mbb{Z})$ acts on $\\mc{H}$ by:\n",
    "$$\n",
    "\\DS\n",
    "\\bmat{\n",
    "a & b\\\\\n",
    "c & d\n",
    "}\n",
    "\\cdot \\tau =\n",
    "\\frac{a\\tau+b}{c\\tau+d}\n",
    "$$"
   ]
  },
  {
   "cell_type": "markdown",
   "metadata": {},
   "source": [
    "## Def\n",
    "**Hecke congruence subgroup:**\n",
    "$$\n",
    "\\DS\n",
    "\\Gamma_0(N)=\\set{\n",
    "    \\bmat{\n",
    "        a & b\\\\\n",
    "        c & d\n",
    "     } \\in SL(2,\\mbb{Z}) | c \\equiv 0 \\space mod\\space N\n",
    " }\n",
    "$$"
   ]
  },
  {
   "cell_type": "markdown",
   "metadata": {},
   "source": [
    "## Def\n",
    "Let $E$ be field and $K$ be it's subfield. In this case $E$ is **extension of field** $K$."
   ]
  },
  {
   "cell_type": "markdown",
   "metadata": {},
   "source": [
    "## Note\n",
    "If $E$ is an extension of field $K$, then $E$ is vectorspace over $K$ with $E$'s multiplication operation as scalar-by-vector multiplication. "
   ]
  },
  {
   "cell_type": "markdown",
   "metadata": {},
   "source": [
    "## Def\n",
    "**Algebraically closed field** is field $\\mbb{F}$ where any polynomial of non-zeroth power has at least one solution. "
   ]
  },
  {
   "cell_type": "markdown",
   "metadata": {},
   "source": [
    "## Def\n",
    "**Algebraic closure** of $K\\subset K^*$ is an extension  $K^*$ which is algebraically closed."
   ]
  },
  {
   "cell_type": "markdown",
   "metadata": {},
   "source": [
    "## Def\n",
    "The extension $E$ of $K$ is called **normal** iff any isomporhism of $E$ to $K^*$ is automorphism of $E$."
   ]
  },
  {
   "cell_type": "markdown",
   "metadata": {},
   "source": [
    "## Def \n",
    "**Algebraic extension** is an extension $E$ of field $K$,s.e. $\\forall \\alpha \\in E: \\exists f_{\\alpha}\\in Poly(K)|f_{\\alpha}(\\alpha)=0$, where $Poly(K)$ is a set of all polynomials over field $K$."
   ]
  },
  {
   "cell_type": "markdown",
   "metadata": {},
   "source": [
    "## Def\n",
    "**Separable element** is an elemnt of field $K$,s.t. minimal zeroing polynomial $f$ does not have repeated roots."
   ]
  },
  {
   "cell_type": "markdown",
   "metadata": {},
   "source": [
    "## Def\n",
    "Algebraic extension $E$ of field $K$ is called **separable** if it contains only separable elements."
   ]
  },
  {
   "cell_type": "markdown",
   "metadata": {},
   "source": [
    "## Def\n",
    "**Galois extension** is normal and separable extension of a field."
   ]
  },
  {
   "cell_type": "markdown",
   "metadata": {},
   "source": [
    "## Def\n",
    "**Field automorphism** is an endomorphism $f: K\\to K$,s.t.:\n",
    "* $f(ab)=f(a)f(b)$\n",
    "* $f(a+b)=f(a)+f(b)$"
   ]
  },
  {
   "cell_type": "markdown",
   "metadata": {},
   "source": [
    "## Def\n",
    "Let $E$ be an extension of $K$, then group $Gal(E,K)$ of automorphisms,s.t. $\\forall \\alpha\\in K\\forall f\\in Gal(E,K): f(\\alpha)=\\alpha$ called **Galois group**."
   ]
  }
 ],
 "metadata": {
  "kernelspec": {
   "display_name": "SageMath 9.2",
   "language": "sage",
   "name": "sagemath"
  },
  "language_info": {
   "codemirror_mode": {
    "name": "ipython",
    "version": 3
   },
   "file_extension": ".py",
   "mimetype": "text/x-python",
   "name": "python",
   "nbconvert_exporter": "python",
   "pygments_lexer": "ipython3",
   "version": "3.8.5"
  }
 },
 "nbformat": 4,
 "nbformat_minor": 4
}
