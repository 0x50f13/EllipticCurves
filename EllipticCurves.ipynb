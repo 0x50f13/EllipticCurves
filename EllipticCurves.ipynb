{
 "cells": [
  {
   "cell_type": "markdown",
   "metadata": {},
   "source": [
    "# EllipticCurves\n",
    "$\\newcommand{DS}{\\displaystyle}$\n",
    "$\\newcommand{mbb}[1]{\\mathbb{#1}}$\n",
    "$\\newcommand{set}[1]{\\left\\{ #1 \\right\\}}$\n",
    "$\\newcommand{sp}{\\text{ }}$\n",
    "$\\newcommand{def}{\\stackrel{def}=}$\n",
    "$\\newcommand{mc}[1]{\\mathcal{#1}}$\n",
    "$\\newcommand{system}[1]{\\begin{cases} #1 \\end{cases}}$\n",
    "## Def\n",
    "**Elliptic curve** is a curve which is defined as follows:\n",
    "$$\n",
    "\\DS\n",
    "y^2+a_1xy+a_3y=x^3+a_2x^2+a_4x+a_5\n",
    "$$\n",
    "Elliptic curves can be defined over different fields(e.g. $\\mbb{C},\\mbb{Q},\\mbb{F}_p,$etc.)"
   ]
  },
  {
   "cell_type": "markdown",
   "metadata": {},
   "source": [
    "## Groups on elliptic curves\n",
    "The group on elliptic curve is defined by intersection of an curve by line, the sum of points on this line is assumed to be $0$:\n",
    "* $P+Q+R=0$\n",
    "* $P+Q+Q=0$ (point in infinity)\n",
    "* $P+Q+0=0$ (no point in infinity, line parallely to $Y$)\n",
    "* $P+P+0=0$ (line has intersection only in one point)"
   ]
  },
  {
   "cell_type": "markdown",
   "metadata": {},
   "source": [
    "## Def\n",
    "**Modular group** is a group of linear fractional transform defined in upper half of complex plane:\n",
    "$$\n",
    "z\\mapsto \\frac{az+b}{cz+d}\n",
    "$$"
   ]
  },
  {
   "cell_type": "markdown",
   "metadata": {},
   "source": [
    "Where $ad-bc=1$"
   ]
  },
  {
   "cell_type": "markdown",
   "metadata": {},
   "source": [
    "## Def \n",
    "**Special linear group** is a group of $n \\times n$ matrices with determinant $1$:\n",
    "$$\n",
    "\\DS\n",
    "SL(n,\\mbb{F})=(\\set{A| A\\in Mat_{n\\times n}(\\mbb{F}), det(A)=1},\\times)\n",
    "$$"
   ]
  },
  {
   "cell_type": "markdown",
   "metadata": {},
   "source": [
    "## Def\n",
    "**Prime ideal** of a ring $A$, is ideal $P$, s.t. $\\forall r\\in A: arb\\in P\\Rightarrow a\\in P\\lor b\\in P$"
   ]
  },
  {
   "cell_type": "markdown",
   "metadata": {},
   "source": [
    "## Def\n",
    "**Weierstrass equation** is another form of elliptic curve that can be achieved by linear coordinate transformation. The generalized Wierstrass equation is as follows:\n",
    "$$\n",
    "\\DS\n",
    "y^2 = x^3+ax+b\n",
    "$$\n",
    "For elliptic curve to be non-singular, the RHS discriminant should not be $0$: $\\Delta = -16(4a^3+27b^2) \\ne 0$"
   ]
  },
  {
   "cell_type": "markdown",
   "metadata": {},
   "source": [
    "## Th(Hasse)\n",
    "[Statement(slide 11)](https://math.berkeley.edu/~ribet/parc.pdf)"
   ]
  },
  {
   "cell_type": "markdown",
   "metadata": {},
   "source": [
    "Consider an equation (probably over field $\\mbb{Z}$):\n",
    "$$\n",
    "\\DS\n",
    "y^2 = x^3+ax+b\\sp mod\\sp p\n",
    "$$"
   ]
  },
  {
   "cell_type": "markdown",
   "metadata": {},
   "source": [
    "Let $N_p$ be a number of solutions for this equation, then following holds:\n",
    "$$\n",
    "\\DS\n",
    "|N_p - p|<2\\sqrt{p}\n",
    "$$"
   ]
  },
  {
   "cell_type": "markdown",
   "metadata": {},
   "source": [
    "## Def\n",
    "[Statement+explanation(slide 19)](https://math.berkeley.edu/~ribet/parc.pdf)\n"
   ]
  },
  {
   "cell_type": "markdown",
   "metadata": {},
   "source": [
    "**Conductor** is an integer such that its' divisors $p$ lead to singularity for an elliptic curve equation modulo $p$"
   ]
  },
  {
   "cell_type": "markdown",
   "metadata": {},
   "source": [
    "## Def\n",
    "**Endomorphism** is map(may not be invertible) of obaject into itself:\n",
    "$$\n",
    "\\DS\n",
    "f: V\\to V\n",
    "$$"
   ]
  },
  {
   "cell_type": "markdown",
   "metadata": {},
   "source": [
    "## Def\n",
    "**Isogeny** from elliptic curve $E_1$ to elliptic curve $E_2$ is a morphism $\\phi: E_1 \\to E_2$, s.t. $\\phi(O)=O$. Isogenies are homomorphisms of elliptic curves, denoted by $Hom_{\\mbb{F}}(E_1,E_2)$"
   ]
  },
  {
   "cell_type": "markdown",
   "metadata": {},
   "source": [
    "## Def\n",
    "**Endomorphisms** of elliptic curve $E$:\n",
    "$$\n",
    "End_{\\mbb{F}}(E) \\def Hom_{\\mbb{F}}(E,E)\n",
    "$$\n",
    "\n",
    "Endomorphisms of elliptic curve are ring."
   ]
  },
  {
   "cell_type": "markdown",
   "metadata": {},
   "source": [
    "## Def\n",
    "Elliptic curve $E$ is said to have a **complex multiplication(CM)** if its ring of endomorphisms is strictly larger then ring of integers:\n",
    "$$\n",
    "\\DS\n",
    "End_{\\mbb{C}}(E)\\ne\\mbb{Z}\n",
    "$$"
   ]
  },
  {
   "cell_type": "markdown",
   "metadata": {},
   "source": [
    "## Hasse-Weil $\\zeta$-function for elliptic curves over $\\mbb{Q}$\n"
   ]
  },
  {
   "cell_type": "markdown",
   "metadata": {},
   "source": [
    "Source: [Wikipedia](https://en.wikipedia.org/wiki/Hasse%E2%80%93Weil_zeta_function)"
   ]
  },
  {
   "cell_type": "markdown",
   "metadata": {},
   "source": [
    "Hasse-Weil $\\zeta$-function extends Riemann $\\zeta$-function on algebraic varaities. "
   ]
  },
  {
   "cell_type": "markdown",
   "metadata": {},
   "source": [
    "For elliptic curve $E$ with conductor $N$, Hasse-Weil $\\zeta$-function is as follow:\n",
    "$$\n",
    "Z_{E,\\mbb{Q}}(s) = \\frac{\\zeta(s)\\zeta(s-1)}{L(s,E)}\n",
    "$$"
   ]
  },
  {
   "cell_type": "markdown",
   "metadata": {},
   "source": [
    "Where $L$ is $L$-function:<br>\n",
    "$\n",
    "\\DS\n",
    "L=\\prod_{p} L_p(s,E)^{-1}\n",
    "$\n"
   ]
  },
  {
   "cell_type": "markdown",
   "metadata": {},
   "source": [
    "Where for prime $p$, $L_p$ is as follows:\n",
    "<br>\n",
    "$\n",
    "\\DS\n",
    "L_p(s,E)=\n",
    "\\system{\n",
    "    1-a_pp^{-s}+p^{1-2s}, \\text{if } p \\nmid N\\\\\n",
    "    1-a_pp^{-s}, \\text{if } p | N, p^2 \\nmid N\\\\\n",
    "    1, \\text{if }p^2 | N\n",
    "}\n",
    "$"
   ]
  },
  {
   "cell_type": "markdown",
   "metadata": {},
   "source": [
    "$a_p = p+1-\\#E(\\mbb{GF}_p)$ or $a_p = \\pm 1$(for multiplicative reduction)"
   ]
  },
  {
   "cell_type": "markdown",
   "metadata": {},
   "source": [
    "Where $\\#E(\\mbb{GF}_p)$ is an order of elliptic curve(i.e. number of points) over Galois field of size $p$."
   ]
  },
  {
   "cell_type": "code",
   "execution_count": 8,
   "metadata": {},
   "outputs": [],
   "source": [
    "def get_coefs(E_id: str, p_max: int, normalize = True):\n",
    "    conductor = EllipticCurve(E_id).conductor()\n",
    "    P = Primes()\n",
    "    p = 2\n",
    "    a = []\n",
    "    while p<p_max:\n",
    "        if conductor%p == 0:\n",
    "            a.append(0)\n",
    "            p = P.next(p)\n",
    "            continue\n",
    "        K = GF(p)    \n",
    "        E = EllipticCurve(K, E_id)\n",
    "        if normalize:\n",
    "            a.append((p+1-E.order())/sqrt(p))\n",
    "        else:\n",
    "            a.append(p+1-E.order())\n",
    "        p = P.next(p)\n",
    "    return a\n",
    "        "
   ]
  },
  {
   "cell_type": "code",
   "execution_count": 12,
   "metadata": {},
   "outputs": [
    {
     "data": {
      "text/plain": [
       "[-2, -2, -3, -5]"
      ]
     },
     "execution_count": 12,
     "metadata": {},
     "output_type": "execute_result"
    }
   ],
   "source": [
    "get_coefs(\"389a\", 10, False)"
   ]
  },
  {
   "cell_type": "code",
   "execution_count": 14,
   "metadata": {},
   "outputs": [
    {
     "data": {
      "text/plain": [
       "[0, 1, -2, -2, 2, -3, 4, -5, 0, 1, 6]"
      ]
     },
     "execution_count": 14,
     "metadata": {},
     "output_type": "execute_result"
    }
   ],
   "source": [
    "EllipticCurve(\"389a\").anlist(10)"
   ]
  },
  {
   "cell_type": "code",
   "execution_count": 32,
   "metadata": {},
   "outputs": [],
   "source": [
    "def get_coefs_modular(E_id: list, p_max: int):\n",
    "    E = EllipticCurve(E_id)\n",
    "    conductor = E.conductor()\n",
    "    _a = E.anlist(p_max)\n",
    "    a=[]\n",
    "    p = 2\n",
    "    P = Primes()\n",
    "    while p<p_max:\n",
    "        if conductor%p != 0:\n",
    "            a.append(_a[p])\n",
    "        else:\n",
    "            a.append(0)\n",
    "        p = P.next(p)\n",
    "    return a"
   ]
  },
  {
   "cell_type": "code",
   "execution_count": 33,
   "metadata": {},
   "outputs": [],
   "source": [
    "am = get_coefs_modular(\"389a\",10000)"
   ]
  },
  {
   "cell_type": "code",
   "execution_count": 36,
   "metadata": {},
   "outputs": [],
   "source": [
    "a = get_coefs(\"389a\",10000, False)"
   ]
  },
  {
   "cell_type": "code",
   "execution_count": 37,
   "metadata": {},
   "outputs": [
    {
     "data": {
      "text/plain": [
       "False"
      ]
     },
     "execution_count": 37,
     "metadata": {},
     "output_type": "execute_result"
    }
   ],
   "source": [
    "am == a"
   ]
  },
  {
   "cell_type": "code",
   "execution_count": 38,
   "metadata": {},
   "outputs": [
    {
     "data": {
      "text/plain": [
       "[-2,\n",
       " -2,\n",
       " -3,\n",
       " -5,\n",
       " -4,\n",
       " -3,\n",
       " -6,\n",
       " 5,\n",
       " -4,\n",
       " -6,\n",
       " 4,\n",
       " -8,\n",
       " -3,\n",
       " 12,\n",
       " -2,\n",
       " -6,\n",
       " 3,\n",
       " -8,\n",
       " -5,\n",
       " -10,\n",
       " -7,\n",
       " -13,\n",
       " -12,\n",
       " -8,\n",
       " -9,\n",
       " -4,\n",
       " -6,\n",
       " 0,\n",
       " 2,\n",
       " 9,\n",
       " 11,\n",
       " 2,\n",
       " -2,\n",
       " 16,\n",
       " 10,\n",
       " -10,\n",
       " -6,\n",
       " -20,\n",
       " 8,\n",
       " 15,\n",
       " -19,\n",
       " 15,\n",
       " -4,\n",
       " -18,\n",
       " 8,\n",
       " -2,\n",
       " 7,\n",
       " -5,\n",
       " 12,\n",
       " -8,\n",
       " -6,\n",
       " 5,\n",
       " -30,\n",
       " 22,\n",
       " 8,\n",
       " -24,\n",
       " 3,\n",
       " -8,\n",
       " 17,\n",
       " -12,\n",
       " -9,\n",
       " -10,\n",
       " 26,\n",
       " -7,\n",
       " 19,\n",
       " -22,\n",
       " 4,\n",
       " -18,\n",
       " 9,\n",
       " -10,\n",
       " 14,\n",
       " -20,\n",
       " 2,\n",
       " -22,\n",
       " 4,\n",
       " -7,\n",
       " 0,\n",
       " 24,\n",
       " -22,\n",
       " -1,\n",
       " -35,\n",
       " -16,\n",
       " 11,\n",
       " 29,\n",
       " 16,\n",
       " 35,\n",
       " -24,\n",
       " -9,\n",
       " -14,\n",
       " -27,\n",
       " 28,\n",
       " 36,\n",
       " 20,\n",
       " -27,\n",
       " -36,\n",
       " -9,\n",
       " 30,\n",
       " 8,\n",
       " 38,\n",
       " -20,\n",
       " 8,\n",
       " 6,\n",
       " -10,\n",
       " -15,\n",
       " 12,\n",
       " -10,\n",
       " -24,\n",
       " 44,\n",
       " 0,\n",
       " -40,\n",
       " 7,\n",
       " -12,\n",
       " -6,\n",
       " 24,\n",
       " -30,\n",
       " 7,\n",
       " -48,\n",
       " 10,\n",
       " 30,\n",
       " -27,\n",
       " -17,\n",
       " 2,\n",
       " 22,\n",
       " -21,\n",
       " -17,\n",
       " 34,\n",
       " -19,\n",
       " -19,\n",
       " -26,\n",
       " -43,\n",
       " 22,\n",
       " 15,\n",
       " -38,\n",
       " -24,\n",
       " -21,\n",
       " 5,\n",
       " -27,\n",
       " 32,\n",
       " -18,\n",
       " 10,\n",
       " 16,\n",
       " 34,\n",
       " 32,\n",
       " -52,\n",
       " -2,\n",
       " 4,\n",
       " -14,\n",
       " 39,\n",
       " 1,\n",
       " 13,\n",
       " -23,\n",
       " -14,\n",
       " -50,\n",
       " -20,\n",
       " -16,\n",
       " -24,\n",
       " 47,\n",
       " -30,\n",
       " 9,\n",
       " -6,\n",
       " 28,\n",
       " -9,\n",
       " 8,\n",
       " 5,\n",
       " -24,\n",
       " -25,\n",
       " -53,\n",
       " -22]"
      ]
     },
     "execution_count": 38,
     "metadata": {},
     "output_type": "execute_result"
    }
   ],
   "source": [
    "am"
   ]
  },
  {
   "cell_type": "markdown",
   "metadata": {},
   "source": []
  }
 ],
 "metadata": {
  "kernelspec": {
   "display_name": "SageMath 9.2",
   "language": "sage",
   "name": "sagemath"
  },
  "language_info": {
   "codemirror_mode": {
    "name": "ipython",
    "version": 3
   },
   "file_extension": ".py",
   "mimetype": "text/x-python",
   "name": "python",
   "nbconvert_exporter": "python",
   "pygments_lexer": "ipython3",
   "version": "3.8.5"
  }
 },
 "nbformat": 4,
 "nbformat_minor": 4
}
