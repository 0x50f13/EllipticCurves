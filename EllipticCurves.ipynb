{
 "cells": [
  {
   "cell_type": "markdown",
   "metadata": {},
   "source": [
    "# EllipticCurves\n",
    "$\\newcommand{DS}{\\displaystyle}$\n",
    "$\\newcommand{mbb}[1]{\\mathbb{#1}}$\n",
    "$\\newcommand{set}[1]{\\left\\{ #1 \\right\\}}$\n",
    "$\\newcommand{sp}{\\text{ }}$\n",
    "$\\newcommand{def}{\\stackrel{def}=}$\n",
    "$\\newcommand{mc}[1]{\\mathcal{#1}}$\n",
    "$\\newcommand{system}[1]{\\begin{cases} #1 \\end{cases}}$\n",
    "## Def\n",
    "**Elliptic curve** is a curve which is defined as follows:\n",
    "$$\n",
    "\\DS\n",
    "y^2+a_1xy+a_3y=x^3+a_2x^2+a_4x+a_5\n",
    "$$\n",
    "Elliptic curves can be defined over different fields(e.g. $\\mbb{C},\\mbb{Q},\\mbb{F}_p,$etc.)"
   ]
  },
  {
   "cell_type": "markdown",
   "metadata": {},
   "source": [
    "## Groups on elliptic curves\n",
    "The group on elliptic curve is defined by intersection of an curve by line, the sum of points on this line is assumed to be $0$:\n",
    "* $P+Q+R=0$\n",
    "* $P+Q+Q=0$ (point in infinity)\n",
    "* $P+Q+0=0$ (no point in infinity, line parallely to $Y$)\n",
    "* $P+P+0=0$ (line has intersection only in one point)"
   ]
  },
  {
   "cell_type": "markdown",
   "metadata": {},
   "source": [
    "## Def\n",
    "**Modular group** is a group of linear fractional transform defined in upper half of complex plane:\n",
    "$$\n",
    "z\\mapsto \\frac{az+b}{cz+d}\n",
    "$$"
   ]
  },
  {
   "cell_type": "markdown",
   "metadata": {},
   "source": [
    "Where $ad-bc=1$"
   ]
  },
  {
   "cell_type": "markdown",
   "metadata": {},
   "source": [
    "## Def \n",
    "**Special linear group** is a group of $n \\times n$ matrices with determinant $1$:\n",
    "$$\n",
    "\\DS\n",
    "SL(n,\\mbb{F})=(\\set{A| A\\in Mat_{n\\times n}(\\mbb{F}), det(A)=1},\\times)\n",
    "$$"
   ]
  },
  {
   "cell_type": "markdown",
   "metadata": {},
   "source": [
    "## Def\n",
    "**Prime ideal** of a ring $A$, is ideal $P$, s.t. $\\forall r\\in A: arb\\in P\\Rightarrow a\\in P\\lor b\\in P$"
   ]
  },
  {
   "cell_type": "markdown",
   "metadata": {},
   "source": [
    "## Def\n",
    "**Weierstrass equation** is another form of elliptic curve that can be achieved by linear coordinate transformation. The generalized Wierstrass equation is as follows:\n",
    "$$\n",
    "\\DS\n",
    "y^2 = x^3+ax+b\n",
    "$$\n",
    "For elliptic curve to be non-singular, the RHS discriminant should not be $0$: $\\Delta = -16(4a^3+27b^2) \\ne 0$"
   ]
  },
  {
   "cell_type": "markdown",
   "metadata": {},
   "source": [
    "## Th(Hasse)\n",
    "[Statement(slide 11)](https://math.berkeley.edu/~ribet/parc.pdf)"
   ]
  },
  {
   "cell_type": "markdown",
   "metadata": {},
   "source": [
    "Consider an equation (probably over field $\\mbb{Z}$):\n",
    "$$\n",
    "\\DS\n",
    "y^2 = x^3+ax+b\\sp mod\\sp p\n",
    "$$"
   ]
  },
  {
   "cell_type": "markdown",
   "metadata": {},
   "source": [
    "Let $N_p$ be a number of solutions for this equation, then following holds:\n",
    "$$\n",
    "\\DS\n",
    "|N_p - p|<2\\sqrt{p}\n",
    "$$"
   ]
  },
  {
   "cell_type": "markdown",
   "metadata": {},
   "source": [
    "## Def\n",
    "[Statement+explanation(slide 19)](https://math.berkeley.edu/~ribet/parc.pdf)\n"
   ]
  },
  {
   "cell_type": "markdown",
   "metadata": {},
   "source": [
    "**Conductor** is an integer such that its' divisors $p$ lead to singularity for an elliptic curve equation modulo $p$"
   ]
  },
  {
   "cell_type": "markdown",
   "metadata": {},
   "source": [
    "## Def\n",
    "**Endomorphism** is map(may not be invertible) of obaject into itself:\n",
    "$$\n",
    "\\DS\n",
    "f: V\\to V\n",
    "$$"
   ]
  },
  {
   "cell_type": "markdown",
   "metadata": {},
   "source": [
    "## Def\n",
    "**Isogeny** from elliptic curve $E_1$ to elliptic curve $E_2$ is a morphism $\\phi: E_1 \\to E_2$, s.t. $\\phi(O)=O$. Isogenies are homomorphisms of elliptic curves over field $\\mbb{F}$, denoted by $Hom_{\\mbb{F}}(E_1,E_2)$"
   ]
  },
  {
   "cell_type": "markdown",
   "metadata": {},
   "source": [
    "## Def\n",
    "**Endomorphisms** of elliptic curve $E$:\n",
    "$$\n",
    "End_{\\mbb{F}}(E) \\def Hom_{\\mbb{F}}(E,E)\n",
    "$$\n",
    "\n",
    "Endomorphisms of elliptic curve are ring."
   ]
  },
  {
   "cell_type": "markdown",
   "metadata": {},
   "source": [
    "## Def\n",
    "Elliptic curve $E$ is said to have a **complex multiplication(CM)** if its ring of endomorphisms is strictly larger then ring of integers:\n",
    "$$\n",
    "\\DS\n",
    "End_{\\mbb{C}}(E)\\ne\\mbb{Z}\n",
    "$$"
   ]
  },
  {
   "cell_type": "markdown",
   "metadata": {},
   "source": [
    "## Hasse-Weil $\\zeta$-function for elliptic curves over $\\mbb{Q}$\n"
   ]
  },
  {
   "cell_type": "markdown",
   "metadata": {},
   "source": [
    "Source: [Wikipedia](https://en.wikipedia.org/wiki/Hasse%E2%80%93Weil_zeta_function)"
   ]
  },
  {
   "cell_type": "markdown",
   "metadata": {},
   "source": [
    "Hasse-Weil $\\zeta$-function extends Riemann $\\zeta$-function on algebraic varaities. "
   ]
  },
  {
   "cell_type": "markdown",
   "metadata": {},
   "source": [
    "For elliptic curve $E$ with conductor $N$, Hasse-Weil $\\zeta$-function is as follow:\n",
    "$$\n",
    "Z_{E,\\mbb{Q}}(s) = \\frac{\\zeta(s)\\zeta(s-1)}{L(s,E)}\n",
    "$$"
   ]
  },
  {
   "cell_type": "markdown",
   "metadata": {},
   "source": [
    "Where $L$ is $L$-function:<br>\n",
    "$\n",
    "\\DS\n",
    "L=\\prod_{p} L_p(s,E)^{-1}\n",
    "$\n"
   ]
  },
  {
   "cell_type": "markdown",
   "metadata": {},
   "source": [
    "Where for prime $p$, $L_p$ is as follows:\n",
    "<br>\n",
    "$\n",
    "\\DS\n",
    "L_p(s,E)=\n",
    "\\system{\n",
    "    1-a_pp^{-s}+p^{1-2s}, \\text{if } p \\nmid N\\\\\n",
    "    1-a_pp^{-s}, \\text{if } p | N, p^2 \\nmid N\\\\\n",
    "    1, \\text{if }p^2 | N\n",
    "}\n",
    "$"
   ]
  },
  {
   "cell_type": "markdown",
   "metadata": {},
   "source": [
    "$a_p = p+1-\\#E(\\mbb{GF}_p)$ or $a_p = \\pm 1$(for multiplicative reduction)"
   ]
  },
  {
   "cell_type": "markdown",
   "metadata": {},
   "source": [
    "Where $\\#E(\\mbb{GF}_p)$ is an order of elliptic curve(i.e. number of points) over Galois field of size $p$."
   ]
  },
  {
   "cell_type": "code",
   "execution_count": 1,
   "metadata": {},
   "outputs": [],
   "source": [
    "def get_coefs(E_id: str, p_max: int, normalize = True):\n",
    "    conductor = EllipticCurve(E_id).conductor()\n",
    "    P = Primes()\n",
    "    p = 2\n",
    "    a = []\n",
    "    while p<p_max:\n",
    "        if conductor%p == 0:\n",
    "            a.append(0)\n",
    "            p = P.next(p)\n",
    "            continue\n",
    "        K = GF(p)    \n",
    "        E = EllipticCurve(K, E_id)\n",
    "        if normalize:\n",
    "            a.append((p+1-E.order())/sqrt(p))\n",
    "        else:\n",
    "            a.append(p+1-E.order())\n",
    "        p = P.next(p)\n",
    "    return a\n",
    "        "
   ]
  },
  {
   "cell_type": "code",
   "execution_count": 2,
   "metadata": {},
   "outputs": [
    {
     "data": {
      "text/plain": [
       "[-2, -2, -3, -5]"
      ]
     },
     "execution_count": 2,
     "metadata": {},
     "output_type": "execute_result"
    }
   ],
   "source": [
    "get_coefs(\"389a\", 10, False)"
   ]
  },
  {
   "cell_type": "code",
   "execution_count": 3,
   "metadata": {},
   "outputs": [
    {
     "data": {
      "text/plain": [
       "[0, 1, -2, -2, 2, -3, 4, -5, 0, 1, 6]"
      ]
     },
     "execution_count": 3,
     "metadata": {},
     "output_type": "execute_result"
    }
   ],
   "source": [
    "EllipticCurve(\"389a\").anlist(10)"
   ]
  },
  {
   "cell_type": "code",
   "execution_count": 4,
   "metadata": {},
   "outputs": [],
   "source": [
    "def get_coefs_modular(E_id: list, p_max: int, normalize = True):\n",
    "    E = EllipticCurve(E_id)\n",
    "    conductor = E.conductor()\n",
    "    _a = E.anlist(p_max)\n",
    "    a=[]\n",
    "    p = 2\n",
    "    P = Primes()\n",
    "    while p<p_max:\n",
    "        if conductor%p != 0:\n",
    "            if normalize:\n",
    "                a.append(_a[p]/sqrt(p))\n",
    "            else:\n",
    "                a.append(_a[p])\n",
    "        else:\n",
    "            a.append(0)\n",
    "        p = P.next(p)\n",
    "    return a\n",
    "\n",
    "def get_coefs_modular2(E: EllipticCurve,p_max: int, normalize = True):\n",
    "    conductor = E.conductor()\n",
    "    _a = E.anlist(p_max)\n",
    "    a=[]\n",
    "    p = 2\n",
    "    P = Primes()\n",
    "    while p<p_max:\n",
    "        if conductor%p != 0:\n",
    "            if normalize:\n",
    "                a.append(_a[p]/sqrt(p))\n",
    "            else:\n",
    "                a.append(_a[p])\n",
    "        else:\n",
    "            a.append(0)\n",
    "        p = P.next(p)\n",
    "    return a"
   ]
  },
  {
   "cell_type": "code",
   "execution_count": 5,
   "metadata": {},
   "outputs": [
    {
     "name": "stdout",
     "output_type": "stream",
     "text": [
      "CPU times: user 30 ms, sys: 2.32 ms, total: 32.3 ms\n",
      "Wall time: 34.8 ms\n"
     ]
    }
   ],
   "source": [
    "%%time\n",
    "am = get_coefs_modular(\"389a\",10000, False)"
   ]
  },
  {
   "cell_type": "code",
   "execution_count": 6,
   "metadata": {},
   "outputs": [
    {
     "name": "stdout",
     "output_type": "stream",
     "text": [
      "CPU times: user 5.75 s, sys: 125 ms, total: 5.87 s\n",
      "Wall time: 5.92 s\n"
     ]
    }
   ],
   "source": [
    "%%time\n",
    "a = get_coefs(\"389a\", 10000, False)"
   ]
  },
  {
   "cell_type": "code",
   "execution_count": 7,
   "metadata": {},
   "outputs": [
    {
     "data": {
      "text/plain": [
       "True"
      ]
     },
     "execution_count": 7,
     "metadata": {},
     "output_type": "execute_result"
    }
   ],
   "source": [
    "am == a"
   ]
  },
  {
   "cell_type": "markdown",
   "metadata": {},
   "source": [
    "**NOTE:** modular coefficients $a_p, p\\in \\mc{P}$(where $\\mc{P}$ – prime numbers) will be always equal to coefficients computed in non-modular way due to [Modularity theorem(aka Taniyama-Weil-Shimura theorem)](https://en.wikipedia.org/wiki/Modularity_theorem)"
   ]
  },
  {
   "cell_type": "code",
   "execution_count": 8,
   "metadata": {},
   "outputs": [],
   "source": [
    "DATASET_SIZE = 5000\n",
    "N_COEFS = 10000\n",
    "NORMALIZE = True"
   ]
  },
  {
   "cell_type": "code",
   "execution_count": 9,
   "metadata": {},
   "outputs": [],
   "source": [
    "import os\n",
    "import pickle\n",
    "from tqdm import *\n",
    "c = CremonaDatabase()\n",
    "def find_cm():\n",
    "    # We may have used LMFDB API for this(just\n",
    "    # by using j-invariant filtering)\n",
    "    # But better not to use any network stuff\n",
    "    # since it may change rapidly\n",
    "    cm = []\n",
    "    start,stop = c.smallest_conductor(), c.largest_conductor()\n",
    "    for conductor in tnrange(start,stop,1):\n",
    "        for curve in c.curves(conductor):\n",
    "            E = EllipticCurve(str(conductor)+curve)\n",
    "            if E.has_cm():\n",
    "                cm.append(str(conductor)+curve)\n",
    "    return cm\n",
    "\n",
    "cm = None\n",
    "\n",
    "if not os.path.isdir(\"output/\"):\n",
    "    print(\"Attempting to create output directory automatically!\")\n",
    "    os.mkdir(\"output\")\n",
    "    \n",
    "if os.path.isfile(\"output/cm.pi\"):\n",
    "    with open(\"output/cm.pi\", \"rb\") as f:\n",
    "        cm = pickle.load(f)\n",
    "else:\n",
    "    cm = find_cm()"
   ]
  },
  {
   "cell_type": "code",
   "execution_count": 10,
   "metadata": {},
   "outputs": [],
   "source": [
    "assert cm is not None\n",
    "assert cm.__len__()>0\n",
    "assert DATASET_SIZE>0"
   ]
  },
  {
   "cell_type": "code",
   "execution_count": 11,
   "metadata": {},
   "outputs": [],
   "source": [
    "non_cm_sz = DATASET_SIZE - cm.__len__()\n",
    "_prop = float(cm.__len__())/float(DATASET_SIZE)\n",
    "assert 0.3 < _prop and _prop < 0.7, \"Imbalanced dataset!\""
   ]
  },
  {
   "cell_type": "code",
   "execution_count": 12,
   "metadata": {},
   "outputs": [
    {
     "data": {
      "text/plain": [
       "Elliptic Curve defined by y^2 + x*y = x^3 + 14*x - 11 over Rational Field"
      ]
     },
     "execution_count": 12,
     "metadata": {},
     "output_type": "execute_result"
    }
   ],
   "source": [
    "def get_random_non_cm():\n",
    "    curve = c.random()\n",
    "    while curve.has_cm():\n",
    "        curve = c.random()\n",
    "    return curve\n",
    "get_random_non_cm()"
   ]
  },
  {
   "cell_type": "code",
   "execution_count": 13,
   "metadata": {},
   "outputs": [
    {
     "name": "stderr",
     "output_type": "stream",
     "text": [
      "<ipython-input-13-5346cfa84f48>:2: TqdmDeprecationWarning: Please use `tqdm.notebook.trange` instead of `tqdm.tnrange`\n",
      "  for i in tnrange(non_cm_sz):\n"
     ]
    },
    {
     "data": {
      "application/vnd.jupyter.widget-view+json": {
       "model_id": "5a753341ad694313bcd5042e2f99e1da",
       "version_major": 2,
       "version_minor": 0
      },
      "text/plain": [
       "  0%|          | 0/2330 [00:00<?, ?it/s]"
      ]
     },
     "metadata": {},
     "output_type": "display_data"
    }
   ],
   "source": [
    "D=[]\n",
    "for i in tnrange(non_cm_sz):\n",
    "    D.append(get_coefs_modular2(get_random_non_cm(), N_COEFS, NORMALIZE)+[0])"
   ]
  },
  {
   "cell_type": "code",
   "execution_count": 14,
   "metadata": {},
   "outputs": [
    {
     "name": "stderr",
     "output_type": "stream",
     "text": [
      "<ipython-input-14-9d164bcda8d8>:1: TqdmDeprecationWarning: Please use `tqdm.notebook.trange` instead of `tqdm.tnrange`\n",
      "  for i in tnrange(len(cm)):\n"
     ]
    },
    {
     "data": {
      "application/vnd.jupyter.widget-view+json": {
       "model_id": "d10280807b5f4a1e939bab35e0330943",
       "version_major": 2,
       "version_minor": 0
      },
      "text/plain": [
       "  0%|          | 0/2670 [00:00<?, ?it/s]"
      ]
     },
     "metadata": {},
     "output_type": "display_data"
    }
   ],
   "source": [
    "for i in tnrange(len(cm)):\n",
    "    D.append(get_coefs_modular(cm[i], N_COEFS, NORMALIZE)+[1])"
   ]
  },
  {
   "cell_type": "code",
   "execution_count": 15,
   "metadata": {},
   "outputs": [],
   "source": [
    "assert len(D) == DATASET_SIZE"
   ]
  },
  {
   "cell_type": "code",
   "execution_count": null,
   "metadata": {},
   "outputs": [
    {
     "name": "stderr",
     "output_type": "stream",
     "text": [
      "<ipython-input-16-76150714fd07>:17: TqdmDeprecationWarning: Please use `tqdm.notebook.trange` instead of `tqdm.tnrange`\n",
      "  for i in tnrange(len(D)):\n"
     ]
    },
    {
     "data": {
      "application/vnd.jupyter.widget-view+json": {
       "model_id": "5573579b79a24a9d91aa7f0b74bc2686",
       "version_major": 2,
       "version_minor": 0
      },
      "text/plain": [
       "  0%|          | 0/5000 [00:00<?, ?it/s]"
      ]
     },
     "metadata": {},
     "output_type": "display_data"
    }
   ],
   "source": [
    "header = \"\"\n",
    "for i in range(N_COEFS):\n",
    "    header+=\"A\"+str(i)+\",\"\n",
    "    \n",
    "header += \"CM\\n\"\n",
    "\n",
    "def line2csv(a: list):\n",
    "    line = \"\"\n",
    "    for i in range(len(a)):\n",
    "        line += str(float(a[i]))\n",
    "        if i != len(a) - 1:\n",
    "            line += \",\"\n",
    "    return line + \"\\n\"\n",
    "\n",
    "with open(\"output/dataset.csv\", \"w+\") as f:\n",
    "    f.write(header)\n",
    "    for i in tnrange(len(D)):\n",
    "        f.write(line2csv(D[i]))"
   ]
  },
  {
   "cell_type": "code",
   "execution_count": null,
   "metadata": {},
   "outputs": [],
   "source": [
    "!head output/dataset.csv"
   ]
  },
  {
   "cell_type": "code",
   "execution_count": null,
   "metadata": {},
   "outputs": [],
   "source": []
  }
 ],
 "metadata": {
  "kernelspec": {
   "display_name": "SageMath 9.2",
   "language": "sage",
   "name": "sagemath"
  },
  "language_info": {
   "codemirror_mode": {
    "name": "ipython",
    "version": 3
   },
   "file_extension": ".py",
   "mimetype": "text/x-python",
   "name": "python",
   "nbconvert_exporter": "python",
   "pygments_lexer": "ipython3",
   "version": "3.8.5"
  }
 },
 "nbformat": 4,
 "nbformat_minor": 4
}
