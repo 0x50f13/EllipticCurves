{
 "cells": [
  {
   "cell_type": "markdown",
   "metadata": {},
   "source": [
    "# EllipticCurves\n",
    "$\\newcommand{DS}{\\displaystyle}$\n",
    "$\\newcommand{mbb}[1]{\\mathbb{#1}}$\n",
    "$\\newcommand{set}[1]{\\left\\{ #1 \\right\\}}$\n",
    "$\\newcommand{sp}{\\text{ }}$\n",
    "## Def\n",
    "**Elliptic curve** is a curve which is defined as follows:\n",
    "$$\n",
    "\\DS\n",
    "y^2+a_1xy+a_3y=x^3+a_2x^2+a_4x+a_5\n",
    "$$\n",
    "Elliptic curves can be defined over different fields(e.g. $\\mbb{C},\\mbb{Q},\\mbb{F}_p,$etc.)"
   ]
  },
  {
   "cell_type": "markdown",
   "metadata": {},
   "source": [
    "## Groups on elliptic curves\n",
    "The group on elliptic curve is defined by intersection of an curve by line, the sum of points on this line is assumed to be $0$:\n",
    "* $P+Q+R=0$\n",
    "* $P+Q+Q=0$ (point in infinity)\n",
    "* $P+Q+0=0$ (no point in infinity, line parallely to $Y$)\n",
    "* $P+P+0=0$ (line has intersection only in one point)"
   ]
  },
  {
   "cell_type": "markdown",
   "metadata": {},
   "source": [
    "## Def\n",
    "**Modular group** is a group of linear fractional transform defined in upper half of complex plane:\n",
    "$$\n",
    "z\\mapsto \\frac{az+b}{cz+d}\n",
    "$$"
   ]
  },
  {
   "cell_type": "markdown",
   "metadata": {},
   "source": [
    "Where $ad-bc=1$"
   ]
  },
  {
   "cell_type": "markdown",
   "metadata": {},
   "source": [
    "## Def \n",
    "**Special linear group** is a group of $n \\times n$ matrices with det $1$:\n",
    "$$\n",
    "\\DS\n",
    "SL(n,\\mbb{F})=(\\set{A| A\\in Mat_{n\\times n}(\\mbb{F}), det(A)=1},\\times)\n",
    "$$"
   ]
  },
  {
   "cell_type": "markdown",
   "metadata": {},
   "source": [
    "## Def\n",
    "**Prime ideal** of a ring $A$, is ideal $P$, s.t. $\\forall r\\in A: arb\\in P\\Rightarrow a\\in P\\lor b\\in P$"
   ]
  },
  {
   "cell_type": "markdown",
   "metadata": {},
   "source": [
    "## Def\n",
    "**Weierstrass equation** is another form of elliptic curve that can be achieved by linear coordinate transformation. The generalized Wierstrass equation is as follows:\n",
    "$$\n",
    "\\DS\n",
    "y^2 = x^3+ax+b\n",
    "$$\n",
    "For elliptic curve to be non-singular, the RHS discriminant should not be $0$: $\\Delta = -16(4a^3+27b^2) \\ne 0$"
   ]
  },
  {
   "cell_type": "markdown",
   "metadata": {},
   "source": [
    "## Th(Hasse)\n",
    "[Statement(slide 11)](https://math.berkeley.edu/~ribet/parc.pdf)"
   ]
  },
  {
   "cell_type": "markdown",
   "metadata": {},
   "source": [
    "Consider an equation (probably over field $\\mbb{Z}$):\n",
    "$$\n",
    "\\DS\n",
    "y^2 = x^3+ax+b\\sp mod\\sp p\n",
    "$$"
   ]
  },
  {
   "cell_type": "markdown",
   "metadata": {},
   "source": [
    "Let $N_p$ be a number of solutions for this equation, then following holds:\n",
    "$$\n",
    "\\DS\n",
    "|N_p - p|<2\\sqrt{p}\n",
    "$$"
   ]
  },
  {
   "cell_type": "markdown",
   "metadata": {},
   "source": [
    "## Def\n",
    "[Statement+explanation(slide 19)](https://math.berkeley.edu/~ribet/parc.pdf)\n"
   ]
  },
  {
   "cell_type": "markdown",
   "metadata": {},
   "source": [
    "**Conductor** is an integer such that its' divisors $p$ lead to singularity for an elliptic curve equation modulo $p$"
   ]
  },
  {
   "cell_type": "markdown",
   "metadata": {},
   "source": [
    "## Def\n",
    "**Modular form** "
   ]
  }
 ],
 "metadata": {
  "kernelspec": {
   "display_name": "SageMath 9.2",
   "language": "sage",
   "name": "sagemath"
  },
  "language_info": {
   "codemirror_mode": {
    "name": "ipython",
    "version": 3
   },
   "file_extension": ".py",
   "mimetype": "text/x-python",
   "name": "python",
   "nbconvert_exporter": "python",
   "pygments_lexer": "ipython3",
   "version": "3.8.5"
  }
 },
 "nbformat": 4,
 "nbformat_minor": 4
}
