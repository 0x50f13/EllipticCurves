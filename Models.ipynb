{
 "cells": [
  {
   "cell_type": "markdown",
   "id": "cc593473",
   "metadata": {},
   "source": [
    "# Classifying elliptic curves by complex multiplication"
   ]
  },
  {
   "cell_type": "code",
   "execution_count": 1,
   "id": "37d0bbe2",
   "metadata": {},
   "outputs": [],
   "source": [
    "import pandas as pd\n",
    "import numpy as np \n",
    "from sklearn.model_selection import train_test_split\n",
    "from tqdm.notebook import *\n",
    "from math import *\n",
    "from livelossplot import PlotLosses\n",
    "import torch\n",
    "import torch.nn as nn\n",
    "import torch.optim as optim\n",
    "import torch.nn.functional as F\n",
    "import matplotlib.pyplot as plt\n",
    "from helpers import *"
   ]
  },
  {
   "cell_type": "code",
   "execution_count": 2,
   "id": "e2f0fe34",
   "metadata": {},
   "outputs": [],
   "source": [
    "df = pd.read_csv(\"output/dataset_unnormalized.csv\")"
   ]
  },
  {
   "cell_type": "code",
   "execution_count": 3,
   "id": "93d19a9f",
   "metadata": {},
   "outputs": [
    {
     "data": {
      "text/html": [
       "<div>\n",
       "<style scoped>\n",
       "    .dataframe tbody tr th:only-of-type {\n",
       "        vertical-align: middle;\n",
       "    }\n",
       "\n",
       "    .dataframe tbody tr th {\n",
       "        vertical-align: top;\n",
       "    }\n",
       "\n",
       "    .dataframe thead th {\n",
       "        text-align: right;\n",
       "    }\n",
       "</style>\n",
       "<table border=\"1\" class=\"dataframe\">\n",
       "  <thead>\n",
       "    <tr style=\"text-align: right;\">\n",
       "      <th></th>\n",
       "      <th>A2</th>\n",
       "      <th>A3</th>\n",
       "      <th>A5</th>\n",
       "      <th>A7</th>\n",
       "      <th>A11</th>\n",
       "      <th>A13</th>\n",
       "      <th>A17</th>\n",
       "      <th>A19</th>\n",
       "      <th>A23</th>\n",
       "      <th>A29</th>\n",
       "      <th>...</th>\n",
       "      <th>A9901</th>\n",
       "      <th>A9907</th>\n",
       "      <th>A9923</th>\n",
       "      <th>A9929</th>\n",
       "      <th>A9931</th>\n",
       "      <th>A9941</th>\n",
       "      <th>A9949</th>\n",
       "      <th>A9967</th>\n",
       "      <th>A9973</th>\n",
       "      <th>CM</th>\n",
       "    </tr>\n",
       "  </thead>\n",
       "  <tbody>\n",
       "    <tr>\n",
       "      <th>0</th>\n",
       "      <td>0.0</td>\n",
       "      <td>0.0</td>\n",
       "      <td>-4.0</td>\n",
       "      <td>0.0</td>\n",
       "      <td>4.0</td>\n",
       "      <td>0.0</td>\n",
       "      <td>2.0</td>\n",
       "      <td>6.0</td>\n",
       "      <td>-4.0</td>\n",
       "      <td>-10.0</td>\n",
       "      <td>...</td>\n",
       "      <td>70.0</td>\n",
       "      <td>88.0</td>\n",
       "      <td>92.0</td>\n",
       "      <td>102.0</td>\n",
       "      <td>26.0</td>\n",
       "      <td>114.0</td>\n",
       "      <td>-66.0</td>\n",
       "      <td>-152.0</td>\n",
       "      <td>-82.0</td>\n",
       "      <td>0.0</td>\n",
       "    </tr>\n",
       "    <tr>\n",
       "      <th>1</th>\n",
       "      <td>0.0</td>\n",
       "      <td>0.0</td>\n",
       "      <td>3.0</td>\n",
       "      <td>-3.0</td>\n",
       "      <td>6.0</td>\n",
       "      <td>-4.0</td>\n",
       "      <td>0.0</td>\n",
       "      <td>2.0</td>\n",
       "      <td>0.0</td>\n",
       "      <td>6.0</td>\n",
       "      <td>...</td>\n",
       "      <td>97.0</td>\n",
       "      <td>-6.0</td>\n",
       "      <td>-100.0</td>\n",
       "      <td>147.0</td>\n",
       "      <td>96.0</td>\n",
       "      <td>29.0</td>\n",
       "      <td>64.0</td>\n",
       "      <td>-116.0</td>\n",
       "      <td>-73.0</td>\n",
       "      <td>0.0</td>\n",
       "    </tr>\n",
       "    <tr>\n",
       "      <th>2</th>\n",
       "      <td>0.0</td>\n",
       "      <td>0.0</td>\n",
       "      <td>0.0</td>\n",
       "      <td>0.0</td>\n",
       "      <td>0.0</td>\n",
       "      <td>-2.0</td>\n",
       "      <td>0.0</td>\n",
       "      <td>8.0</td>\n",
       "      <td>0.0</td>\n",
       "      <td>6.0</td>\n",
       "      <td>...</td>\n",
       "      <td>-70.0</td>\n",
       "      <td>134.0</td>\n",
       "      <td>154.0</td>\n",
       "      <td>-10.0</td>\n",
       "      <td>68.0</td>\n",
       "      <td>0.0</td>\n",
       "      <td>22.0</td>\n",
       "      <td>-168.0</td>\n",
       "      <td>194.0</td>\n",
       "      <td>0.0</td>\n",
       "    </tr>\n",
       "    <tr>\n",
       "      <th>3</th>\n",
       "      <td>0.0</td>\n",
       "      <td>0.0</td>\n",
       "      <td>0.0</td>\n",
       "      <td>-2.0</td>\n",
       "      <td>6.0</td>\n",
       "      <td>-2.0</td>\n",
       "      <td>4.0</td>\n",
       "      <td>1.0</td>\n",
       "      <td>3.0</td>\n",
       "      <td>-1.0</td>\n",
       "      <td>...</td>\n",
       "      <td>-46.0</td>\n",
       "      <td>-138.0</td>\n",
       "      <td>156.0</td>\n",
       "      <td>111.0</td>\n",
       "      <td>20.0</td>\n",
       "      <td>-138.0</td>\n",
       "      <td>-76.0</td>\n",
       "      <td>41.0</td>\n",
       "      <td>115.0</td>\n",
       "      <td>0.0</td>\n",
       "    </tr>\n",
       "    <tr>\n",
       "      <th>4</th>\n",
       "      <td>0.0</td>\n",
       "      <td>1.0</td>\n",
       "      <td>1.0</td>\n",
       "      <td>2.0</td>\n",
       "      <td>5.0</td>\n",
       "      <td>1.0</td>\n",
       "      <td>0.0</td>\n",
       "      <td>-4.0</td>\n",
       "      <td>4.0</td>\n",
       "      <td>2.0</td>\n",
       "      <td>...</td>\n",
       "      <td>87.0</td>\n",
       "      <td>-1.0</td>\n",
       "      <td>36.0</td>\n",
       "      <td>-24.0</td>\n",
       "      <td>-32.0</td>\n",
       "      <td>38.0</td>\n",
       "      <td>-4.0</td>\n",
       "      <td>94.0</td>\n",
       "      <td>18.0</td>\n",
       "      <td>0.0</td>\n",
       "    </tr>\n",
       "  </tbody>\n",
       "</table>\n",
       "<p>5 rows × 1230 columns</p>\n",
       "</div>"
      ],
      "text/plain": [
       "    A2   A3   A5   A7  A11  A13  A17  A19  A23   A29  ...  A9901  A9907  \\\n",
       "0  0.0  0.0 -4.0  0.0  4.0  0.0  2.0  6.0 -4.0 -10.0  ...   70.0   88.0   \n",
       "1  0.0  0.0  3.0 -3.0  6.0 -4.0  0.0  2.0  0.0   6.0  ...   97.0   -6.0   \n",
       "2  0.0  0.0  0.0  0.0  0.0 -2.0  0.0  8.0  0.0   6.0  ...  -70.0  134.0   \n",
       "3  0.0  0.0  0.0 -2.0  6.0 -2.0  4.0  1.0  3.0  -1.0  ...  -46.0 -138.0   \n",
       "4  0.0  1.0  1.0  2.0  5.0  1.0  0.0 -4.0  4.0   2.0  ...   87.0   -1.0   \n",
       "\n",
       "   A9923  A9929  A9931  A9941  A9949  A9967  A9973   CM  \n",
       "0   92.0  102.0   26.0  114.0  -66.0 -152.0  -82.0  0.0  \n",
       "1 -100.0  147.0   96.0   29.0   64.0 -116.0  -73.0  0.0  \n",
       "2  154.0  -10.0   68.0    0.0   22.0 -168.0  194.0  0.0  \n",
       "3  156.0  111.0   20.0 -138.0  -76.0   41.0  115.0  0.0  \n",
       "4   36.0  -24.0  -32.0   38.0   -4.0   94.0   18.0  0.0  \n",
       "\n",
       "[5 rows x 1230 columns]"
      ]
     },
     "execution_count": 3,
     "metadata": {},
     "output_type": "execute_result"
    }
   ],
   "source": [
    "df.head()"
   ]
  },
  {
   "cell_type": "code",
   "execution_count": 7,
   "id": "8a33ce73",
   "metadata": {},
   "outputs": [],
   "source": [
    "SOPHIE_GERMAIN = True\n",
    "if not SOPHIE_GERMAIN:\n",
    "    X = np.array(df)\n",
    "    X = np.delete(X, len(X[0])-1, 1)\n",
    "    Y = np.array(df[\"CM\"])\n",
    "else:\n",
    "    indexes=[]\n",
    "    for x in df.columns.values:\n",
    "        if x == \"CM\":\n",
    "            continue\n",
    "        if is_sg(int(x[1:])) or is_safe(int(x[1:])):\n",
    "            indexes.append(x)\n",
    "    X = np.array(df[indexes])\n",
    "    Y = np.array(df[\"CM\"])"
   ]
  },
  {
   "cell_type": "code",
   "execution_count": 8,
   "id": "a28e52fe",
   "metadata": {},
   "outputs": [
    {
     "data": {
      "text/plain": [
       "(5000, 278)"
      ]
     },
     "execution_count": 8,
     "metadata": {},
     "output_type": "execute_result"
    }
   ],
   "source": [
    "X.shape"
   ]
  },
  {
   "cell_type": "code",
   "execution_count": 9,
   "id": "5186ba96",
   "metadata": {},
   "outputs": [
    {
     "data": {
      "text/plain": [
       "(5000,)"
      ]
     },
     "execution_count": 9,
     "metadata": {},
     "output_type": "execute_result"
    }
   ],
   "source": [
    "Y.shape"
   ]
  },
  {
   "cell_type": "code",
   "execution_count": 26,
   "id": "f2fab05d",
   "metadata": {},
   "outputs": [],
   "source": [
    "X_train, X_test, Y_train, Y_test = train_test_split(X, Y, test_size = 0.5, shuffle = True)"
   ]
  },
  {
   "cell_type": "code",
   "execution_count": 27,
   "id": "63d7121c",
   "metadata": {},
   "outputs": [],
   "source": [
    "def ma_sampling(x: list, win = 28): # For pretty plots\n",
    "    assert len(x)>win, \"Window too large!\"\n",
    "    cur_sum = sum(x[:win])\n",
    "    cur_pos = win - 1\n",
    "    sampled = []\n",
    "    for i in range(len(x)-win):\n",
    "        sampled.append(cur_sum/win)\n",
    "        cur_sum -= x[cur_pos-win]\n",
    "        cur_pos += 1\n",
    "        cur_sum += x[cur_pos]\n",
    "    return sampled"
   ]
  },
  {
   "cell_type": "code",
   "execution_count": 12,
   "id": "991b99c4",
   "metadata": {},
   "outputs": [],
   "source": [
    "def acc(X,Y):\n",
    "    err_cnt = 0\n",
    "    correct_cnt = 0\n",
    "    for i in range(len(X)):\n",
    "        x = torch.tensor(X[i], dtype=torch.double).float()\n",
    "        y = Y[i]\n",
    "        _y = model(x)\n",
    "        if _y[0] > _y[1]:\n",
    "            cls = 0\n",
    "        else:\n",
    "            cls = 1\n",
    "        if round(y) != cls:\n",
    "            err_cnt+=1\n",
    "        else:\n",
    "            correct_cnt+=1\n",
    "    return correct_cnt/(correct_cnt+err_cnt)"
   ]
  },
  {
   "cell_type": "markdown",
   "id": "d5622738",
   "metadata": {},
   "source": [
    "## Neural network model"
   ]
  },
  {
   "cell_type": "code",
   "execution_count": null,
   "id": "cfdc1582",
   "metadata": {},
   "outputs": [],
   "source": [
    "from torchviz import make_dot\n",
    "DATA_SIZE = len(X[0])\n",
    "N_EPOCHS = 2000\n",
    "N_DISPLAY = 20\n",
    "SAMPLE_SIZE = 100\n",
    "A=314\n",
    "k=4\n",
    "model = nn.Sequential(\n",
    "        nn.Linear(DATA_SIZE, A),\n",
    "        nn.Dropout(0.1),\n",
    "        nn.Tanh(),\n",
    "        nn.Linear(A, k*A),\n",
    "        nn.LeakyReLU(),\n",
    "        nn.Linear(k*A, k*A),\n",
    "        nn.ELU(),\n",
    "        nn.Linear(k*A, k*A),\n",
    "        nn.LeakyReLU(),\n",
    "        nn.Linear(k*A, A),\n",
    "        nn.Tanh(),\n",
    "        nn.Linear(A, 2),\n",
    "        nn.Softmax()\n",
    ")\n",
    "criterion = nn.CrossEntropyLoss() # The MOST inconvinient criterion ever!\n",
    "optimizer = optim.SGD(model.parameters(), lr=0.01)\n",
    "#print(\"Untrained accuracy(test): %.3f\"%acc(X_test, Y_test))\n",
    "#print(\"Untrained accuracy(train): %.3f\"%acc(X_train, Y_train))\n",
    "x = torch.tensor(X[0], dtype=torch.double).float()\n",
    "y = model(x)\n",
    "make_dot(y)"
   ]
  },
  {
   "cell_type": "code",
   "execution_count": null,
   "id": "ea9c913f",
   "metadata": {},
   "outputs": [],
   "source": [
    "losses = []\n",
    "plotlosses = PlotLosses()\n",
    "avg_loss_lr = 0.0\n",
    "avg_accuracy = 0.0\n",
    "for i in tnrange(N_EPOCHS):\n",
    "    indices = np.random.choice(X_train.shape[0], SAMPLE_SIZE, replace=False)\n",
    "    sample_x = X_train[indices]\n",
    "    sample_y = Y_train[indices]\n",
    "    avg_loss = 0.0\n",
    "    for j in range(SAMPLE_SIZE):\n",
    "        x = torch.Tensor(sample_x[j])\n",
    "        target = torch.Tensor([int(sample_y[j])]).type(torch.LongTensor)\n",
    "        optimizer.zero_grad()   \n",
    "        output = model(x)\n",
    "        output = output.reshape((1,2)).float()\n",
    "        loss = criterion(output, target)\n",
    "        avg_loss += float(loss)\n",
    "        loss.backward()\n",
    "        optimizer.step()\n",
    "    avg_loss /= SAMPLE_SIZE\n",
    "    avg_loss_lr += avg_loss\n",
    "    #avg_accuracy += acc(X_test, Y_test)\n",
    "    if i % N_DISPLAY == 0 and i > 0:\n",
    "        avg_loss_lr /= N_DISPLAY\n",
    "        #avg_accuracy /= N_DISPLAY\n",
    "        plotlosses.update({\"Loss\": avg_loss_lr, \"Accuracy\": acc(X_test, Y_test)})\n",
    "        plotlosses.send()\n",
    "        avg_loss_lr = 0.0\n",
    "        avg_accuracy = 0.0\n",
    "    losses.append(avg_loss)"
   ]
  },
  {
   "cell_type": "code",
   "execution_count": null,
   "id": "9ab45aa2",
   "metadata": {},
   "outputs": [],
   "source": [
    "plt.plot(ma_sampling(losses))\n",
    "plt.show()"
   ]
  },
  {
   "cell_type": "code",
   "execution_count": null,
   "id": "29ba5320",
   "metadata": {},
   "outputs": [],
   "source": [
    "print(\"Acc(train): %.3f\"%acc(X_train, Y_train))\n",
    "print(\"Acc(test): %.3f\"%acc(X_test, Y_test))"
   ]
  },
  {
   "cell_type": "markdown",
   "id": "c8e7275f",
   "metadata": {},
   "source": [
    "As it can be seen neural networks are absolutely useless for classifying _~~anything~~_ elliptic curves."
   ]
  },
  {
   "cell_type": "markdown",
   "id": "7ac2177f",
   "metadata": {},
   "source": [
    "## Naive Bayesian classifier"
   ]
  },
  {
   "cell_type": "code",
   "execution_count": 13,
   "id": "c3b9ee8f",
   "metadata": {},
   "outputs": [
    {
     "name": "stdout",
     "output_type": "stream",
     "text": [
      "Acc: 0.965\n"
     ]
    }
   ],
   "source": [
    "from sklearn.naive_bayes import GaussianNB\n",
    "from sklearn import metrics\n",
    "naive_bayes = GaussianNB()\n",
    "naive_bayes.fit(X_train , Y_train)\n",
    "Y_predicted = naive_bayes.predict(X_test)\n",
    "print(\"Acc: %.3f\" % metrics.accuracy_score(Y_predicted , Y_test))"
   ]
  },
  {
   "cell_type": "markdown",
   "id": "efd0b5ce",
   "metadata": {},
   "source": [
    "## Convolutional neural network"
   ]
  },
  {
   "cell_type": "code",
   "execution_count": null,
   "id": "3f7d8c73",
   "metadata": {},
   "outputs": [],
   "source": [
    "model = nn.Sequential(\n",
    "        nn.Conv1d(1, 1, 64),\n",
    "        nn.MaxPool1d(8),\n",
    "        nn.LeakyReLU(),\n",
    "        nn.Linear(145,290),\n",
    "        nn.Tanh(),\n",
    "        nn.Linear(290,145),\n",
    "        nn.LeakyReLU(),\n",
    "        nn.Linear(145,2)\n",
    ")\n",
    "x = torch.tensor(X_train[0], dtype=torch.double).float().reshape((1,1,1229))"
   ]
  },
  {
   "cell_type": "code",
   "execution_count": null,
   "id": "3edf6e4f",
   "metadata": {},
   "outputs": [],
   "source": [
    "criterion = nn.CrossEntropyLoss()\n",
    "optimizer = optim.SGD(model.parameters(), lr=0.01)"
   ]
  },
  {
   "cell_type": "code",
   "execution_count": null,
   "id": "f20e6218",
   "metadata": {},
   "outputs": [],
   "source": [
    "def acc(X,Y):\n",
    "    err_cnt = 0\n",
    "    correct_cnt = 0\n",
    "    for i in range(len(X)):\n",
    "        x = torch.tensor(X[i], dtype=torch.double).float().reshape((1,1,1229))\n",
    "        y = Y[i]\n",
    "        _y = model(x)\n",
    "        if _y[0][0][0] > _y[0][0][1]:\n",
    "            cls = 0\n",
    "        else:\n",
    "            cls = 1\n",
    "        if round(y) != cls:\n",
    "            err_cnt+=1\n",
    "        else:\n",
    "            correct_cnt+=1\n",
    "    return correct_cnt/(correct_cnt+err_cnt)"
   ]
  },
  {
   "cell_type": "code",
   "execution_count": null,
   "id": "950a65cc",
   "metadata": {},
   "outputs": [],
   "source": [
    "DATA_SIZE = len(X[0])\n",
    "N_EPOCHS = 800\n",
    "N_DISPLAY = 20\n",
    "SAMPLE_SIZE = 100\n",
    "losses = []\n",
    "plotlosses = PlotLosses()\n",
    "avg_loss_lr = 0.0\n",
    "avg_accuracy = 0.0\n",
    "for i in tnrange(N_EPOCHS):\n",
    "    indices = np.random.choice(X_train.shape[0], SAMPLE_SIZE, replace=False)\n",
    "    sample_x = X_train[indices]\n",
    "    sample_y = Y_train[indices]\n",
    "    avg_loss = 0.0\n",
    "    for j in range(SAMPLE_SIZE):\n",
    "        x = torch.Tensor(sample_x[j]).reshape((1,1,1229))\n",
    "        target = torch.Tensor([int(sample_y[j])]).type(torch.LongTensor)\n",
    "        optimizer.zero_grad()   \n",
    "        output = model(x)\n",
    "        output = output[0]\n",
    "        loss = criterion(output, target)\n",
    "        avg_loss += float(loss)\n",
    "        loss.backward()\n",
    "        optimizer.step()\n",
    "    avg_loss /= SAMPLE_SIZE\n",
    "    avg_loss_lr += avg_loss\n",
    "    #avg_accuracy += acc(X_test, Y_test)\n",
    "    if i % N_DISPLAY == 0 and i > 0:\n",
    "        avg_loss_lr /= N_DISPLAY\n",
    "        #avg_accuracy /= N_DISPLAY\n",
    "        plotlosses.update({\"Loss\": avg_loss_lr, \"Accuracy\": acc(X_test, Y_test)})\n",
    "        plotlosses.send()\n",
    "        avg_loss_lr = 0.0\n",
    "        avg_accuracy = 0.0\n",
    "    losses.append(avg_loss)"
   ]
  },
  {
   "cell_type": "code",
   "execution_count": null,
   "id": "774f859f",
   "metadata": {},
   "outputs": [],
   "source": [
    "print(\"Acc(train): %.3f\"%acc(X_train, Y_train))\n",
    "print(\"Acc(test): %.3f\"%acc(X_test, Y_test))"
   ]
  },
  {
   "cell_type": "markdown",
   "id": "3d203efc",
   "metadata": {},
   "source": [
    "Is this magic of random intialization?...or convolutional networks really suitable for working with big vectors? Anyway, lets save this network:"
   ]
  },
  {
   "cell_type": "code",
   "execution_count": null,
   "id": "fe000cc2",
   "metadata": {},
   "outputs": [],
   "source": [
    "torch.save(model, \"output/magic.th\")"
   ]
  },
  {
   "cell_type": "markdown",
   "id": "f6597143",
   "metadata": {},
   "source": [
    "## Decision tree classifier\n"
   ]
  },
  {
   "cell_type": "code",
   "execution_count": 28,
   "id": "a2d31b05",
   "metadata": {},
   "outputs": [],
   "source": [
    "from sklearn import tree\n",
    "import matplotlib\n",
    "\n",
    "matplotlib.rc('figure', figsize=(20, 20))"
   ]
  },
  {
   "cell_type": "code",
   "execution_count": 29,
   "id": "5eb95b17",
   "metadata": {},
   "outputs": [],
   "source": [
    "model = tree.DecisionTreeClassifier()\n",
    "model = model.fit(X_train, Y_train)"
   ]
  },
  {
   "cell_type": "code",
   "execution_count": 30,
   "id": "6c3a741d",
   "metadata": {},
   "outputs": [],
   "source": [
    "def acc(X,Y,fn):\n",
    "    err_cnt = 0\n",
    "    correct_cnt = 0\n",
    "    for i in range(len(X)):\n",
    "        x = X[i]\n",
    "        y = Y[i]\n",
    "        _y = fn([x])\n",
    "        cls = _y[0]\n",
    "        if round(y) != cls:\n",
    "            err_cnt+=1\n",
    "        else:\n",
    "            correct_cnt+=1\n",
    "    return correct_cnt/(correct_cnt+err_cnt)"
   ]
  },
  {
   "cell_type": "code",
   "execution_count": 31,
   "id": "400cea0a",
   "metadata": {},
   "outputs": [
    {
     "data": {
      "text/plain": [
       "0.9952"
      ]
     },
     "execution_count": 31,
     "metadata": {},
     "output_type": "execute_result"
    }
   ],
   "source": [
    "acc(X_test, Y_test, model.predict)"
   ]
  },
  {
   "cell_type": "code",
   "execution_count": 18,
   "id": "b60d4ee7",
   "metadata": {},
   "outputs": [
    {
     "data": {
      "image/png": "[encoded data removed]",
      "text/plain": [
       "<Figure size 1440x1440 with 1 Axes>"
      ]
     },
     "metadata": {
      "needs_background": "light"
     },
     "output_type": "display_data"
    }
   ],
   "source": [
    "tree.plot_tree(model)\n",
    "plt.plot(figsize=(10,10))\n",
    "plt.show()"
   ]
  },
  {
   "cell_type": "code",
   "execution_count": 19,
   "id": "e1b178bf",
   "metadata": {},
   "outputs": [
    {
     "data": {
      "text/plain": [
       "0.5371111111111111"
      ]
     },
     "execution_count": 19,
     "metadata": {},
     "output_type": "execute_result"
    }
   ],
   "source": [
    "Y_test[Y_test == 1.0].__len__()/len(Y_test)"
   ]
  },
  {
   "cell_type": "code",
   "execution_count": 20,
   "id": "62c0fe38",
   "metadata": {},
   "outputs": [],
   "source": [
    "r = tree.export_text(model)"
   ]
  },
  {
   "cell_type": "code",
   "execution_count": 21,
   "id": "b9454f3e",
   "metadata": {},
   "outputs": [
    {
     "name": "stdout",
     "output_type": "stream",
     "text": [
      "|--- feature_197 <= -1.00\n",
      "|   |--- feature_90 <= -82.50\n",
      "|   |   |--- class: 1.0\n",
      "|   |--- feature_90 >  -82.50\n",
      "|   |   |--- feature_207 <= -159.50\n",
      "|   |   |   |--- class: 1.0\n",
      "|   |   |--- feature_207 >  -159.50\n",
      "|   |   |   |--- class: 0.0\n",
      "|--- feature_197 >  -1.00\n",
      "|   |--- feature_197 <= 1.50\n",
      "|   |   |--- feature_183 <= 17.50\n",
      "|   |   |   |--- class: 1.0\n",
      "|   |   |--- feature_183 >  17.50\n",
      "|   |   |   |--- class: 0.0\n",
      "|   |--- feature_197 >  1.50\n",
      "|   |   |--- feature_130 <= 113.50\n",
      "|   |   |   |--- class: 0.0\n",
      "|   |   |--- feature_130 >  113.50\n",
      "|   |   |   |--- class: 1.0\n",
      "\n"
     ]
    }
   ],
   "source": [
    "print(r)"
   ]
  },
  {
   "cell_type": "code",
   "execution_count": 22,
   "id": "fe67ef86",
   "metadata": {},
   "outputs": [
    {
     "data": {
      "text/plain": [
       "429"
      ]
     },
     "execution_count": 22,
     "metadata": {},
     "output_type": "execute_result"
    }
   ],
   "source": [
    "df.index[429]"
   ]
  },
  {
   "cell_type": "code",
   "execution_count": 23,
   "id": "c9c27de3",
   "metadata": {},
   "outputs": [
    {
     "data": {
      "text/plain": [
       "'A1481'"
      ]
     },
     "execution_count": 23,
     "metadata": {},
     "output_type": "execute_result"
    }
   ],
   "source": [
    "df.columns.values[233]"
   ]
  },
  {
   "cell_type": "code",
   "execution_count": 24,
   "id": "7cc1f09a",
   "metadata": {},
   "outputs": [
    {
     "data": {
      "text/plain": [
       "'A4007'"
      ]
     },
     "execution_count": 24,
     "metadata": {},
     "output_type": "execute_result"
    }
   ],
   "source": [
    "df.columns.values[552]"
   ]
  },
  {
   "cell_type": "code",
   "execution_count": null,
   "id": "0c89b587",
   "metadata": {},
   "outputs": [],
   "source": [
    "def is_prime(n: int):\n",
    "    for i in range(2,ceil(sqrt(n)),1):\n",
    "        if n%i == 0:\n",
    "            return False\n",
    "    return True"
   ]
  },
  {
   "cell_type": "code",
   "execution_count": null,
   "id": "b178b9f3",
   "metadata": {},
   "outputs": [],
   "source": [
    "def is_safe(n: int):\n",
    "    return is_prime((n-1) // 2) and is_prime(n)"
   ]
  },
  {
   "cell_type": "code",
   "execution_count": 25,
   "id": "89940070",
   "metadata": {},
   "outputs": [
    {
     "data": {
      "text/plain": [
       "'A6131'"
      ]
     },
     "execution_count": 25,
     "metadata": {},
     "output_type": "execute_result"
    }
   ],
   "source": [
    "indexes[197]"
   ]
  },
  {
   "cell_type": "code",
   "execution_count": null,
   "id": "4984fa18",
   "metadata": {},
   "outputs": [],
   "source": [
    "numbers = [7103,4007,2999]\n",
    "for p in numbers:\n",
    "    print(\"%d is safe:\"%p, is_safe(p))\n",
    "    print(\"%d is Sophie Germain:\"%p, is_sg(p))\n",
    "    print(\"--------------------------\")"
   ]
  },
  {
   "cell_type": "code",
   "execution_count": null,
   "id": "26122854",
   "metadata": {},
   "outputs": [],
   "source": [
    "model.decision_path()"
   ]
  },
  {
   "cell_type": "code",
   "execution_count": null,
   "id": "3ddc938d",
   "metadata": {},
   "outputs": [],
   "source": []
  }
 ],
 "metadata": {
  "kernelspec": {
   "display_name": "Python 3 (ipykernel)",
   "language": "python",
   "name": "python3"
  },
  "language_info": {
   "codemirror_mode": {
    "name": "ipython",
    "version": 3
   },
   "file_extension": ".py",
   "mimetype": "text/x-python",
   "name": "python",
   "nbconvert_exporter": "python",
   "pygments_lexer": "ipython3",
   "version": "3.9.7"
  }
 },
 "nbformat": 4,
 "nbformat_minor": 5
}
