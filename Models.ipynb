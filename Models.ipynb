{
 "cells": [
  {
   "cell_type": "markdown",
   "id": "above-cargo",
   "metadata": {},
   "source": [
    "# Classifying elliptic curves by complex multiplication"
   ]
  },
  {
   "cell_type": "code",
   "execution_count": 19,
   "id": "detected-delay",
   "metadata": {},
   "outputs": [],
   "source": [
    "import pandas as pd\n",
    "import numpy as np \n",
    "from sklearn.model_selection import train_test_split\n",
    "from tqdm.notebook import *\n",
    "from livelossplot import PlotLosses\n",
    "import torch\n",
    "import torch.nn as nn\n",
    "import torch.optim as optim\n",
    "import torch.nn.functional as F\n",
    "import matplotlib.pyplot as plt"
   ]
  },
  {
   "cell_type": "code",
   "execution_count": 20,
   "id": "nearby-country",
   "metadata": {},
   "outputs": [],
   "source": [
    "df = pd.read_csv(\"output/dataset.csv\")"
   ]
  },
  {
   "cell_type": "code",
   "execution_count": 21,
   "id": "deluxe-central",
   "metadata": {},
   "outputs": [
    {
     "data": {
      "text/html": [
       "<div>\n",
       "<style scoped>\n",
       "    .dataframe tbody tr th:only-of-type {\n",
       "        vertical-align: middle;\n",
       "    }\n",
       "\n",
       "    .dataframe tbody tr th {\n",
       "        vertical-align: top;\n",
       "    }\n",
       "\n",
       "    .dataframe thead th {\n",
       "        text-align: right;\n",
       "    }\n",
       "</style>\n",
       "<table border=\"1\" class=\"dataframe\">\n",
       "  <thead>\n",
       "    <tr style=\"text-align: right;\">\n",
       "      <th></th>\n",
       "      <th>A2</th>\n",
       "      <th>A3</th>\n",
       "      <th>A5</th>\n",
       "      <th>A7</th>\n",
       "      <th>A11</th>\n",
       "      <th>A13</th>\n",
       "      <th>A17</th>\n",
       "      <th>A19</th>\n",
       "      <th>A23</th>\n",
       "      <th>A29</th>\n",
       "      <th>...</th>\n",
       "      <th>A9901</th>\n",
       "      <th>A9907</th>\n",
       "      <th>A9923</th>\n",
       "      <th>A9929</th>\n",
       "      <th>A9931</th>\n",
       "      <th>A9941</th>\n",
       "      <th>A9949</th>\n",
       "      <th>A9967</th>\n",
       "      <th>A9973</th>\n",
       "      <th>CM</th>\n",
       "    </tr>\n",
       "  </thead>\n",
       "  <tbody>\n",
       "    <tr>\n",
       "      <th>0</th>\n",
       "      <td>0.000000</td>\n",
       "      <td>0.577350</td>\n",
       "      <td>0.000000</td>\n",
       "      <td>0.000000</td>\n",
       "      <td>0.000000</td>\n",
       "      <td>-0.27735</td>\n",
       "      <td>0.000000</td>\n",
       "      <td>0.917663</td>\n",
       "      <td>1.668115</td>\n",
       "      <td>1.114172</td>\n",
       "      <td>...</td>\n",
       "      <td>0.532643</td>\n",
       "      <td>0.934355</td>\n",
       "      <td>0.331278</td>\n",
       "      <td>-0.541927</td>\n",
       "      <td>1.264370</td>\n",
       "      <td>-1.384089</td>\n",
       "      <td>-0.421075</td>\n",
       "      <td>-1.302150</td>\n",
       "      <td>-1.862516</td>\n",
       "      <td>0.0</td>\n",
       "    </tr>\n",
       "    <tr>\n",
       "      <th>1</th>\n",
       "      <td>0.707107</td>\n",
       "      <td>0.000000</td>\n",
       "      <td>0.447214</td>\n",
       "      <td>1.511858</td>\n",
       "      <td>0.000000</td>\n",
       "      <td>-1.10940</td>\n",
       "      <td>1.455214</td>\n",
       "      <td>-0.688247</td>\n",
       "      <td>-0.208514</td>\n",
       "      <td>0.000000</td>\n",
       "      <td>...</td>\n",
       "      <td>1.507481</td>\n",
       "      <td>1.547211</td>\n",
       "      <td>-1.264879</td>\n",
       "      <td>0.311106</td>\n",
       "      <td>1.314543</td>\n",
       "      <td>0.702074</td>\n",
       "      <td>1.584044</td>\n",
       "      <td>0.220364</td>\n",
       "      <td>1.361840</td>\n",
       "      <td>0.0</td>\n",
       "    </tr>\n",
       "    <tr>\n",
       "      <th>2</th>\n",
       "      <td>-0.707107</td>\n",
       "      <td>0.000000</td>\n",
       "      <td>-0.447214</td>\n",
       "      <td>0.000000</td>\n",
       "      <td>1.206045</td>\n",
       "      <td>-1.10940</td>\n",
       "      <td>-1.455214</td>\n",
       "      <td>0.458831</td>\n",
       "      <td>0.000000</td>\n",
       "      <td>1.856953</td>\n",
       "      <td>...</td>\n",
       "      <td>-1.286383</td>\n",
       "      <td>-0.874074</td>\n",
       "      <td>0.301162</td>\n",
       "      <td>-1.384925</td>\n",
       "      <td>-0.200694</td>\n",
       "      <td>0.140415</td>\n",
       "      <td>-1.142918</td>\n",
       "      <td>-0.030050</td>\n",
       "      <td>0.961299</td>\n",
       "      <td>0.0</td>\n",
       "    </tr>\n",
       "    <tr>\n",
       "      <th>3</th>\n",
       "      <td>0.000000</td>\n",
       "      <td>-1.154701</td>\n",
       "      <td>0.000000</td>\n",
       "      <td>-1.511858</td>\n",
       "      <td>-0.904534</td>\n",
       "      <td>0.55470</td>\n",
       "      <td>0.000000</td>\n",
       "      <td>0.458831</td>\n",
       "      <td>1.251086</td>\n",
       "      <td>-1.671258</td>\n",
       "      <td>...</td>\n",
       "      <td>-0.311546</td>\n",
       "      <td>1.587399</td>\n",
       "      <td>-1.415460</td>\n",
       "      <td>1.384925</td>\n",
       "      <td>-0.762636</td>\n",
       "      <td>-0.300889</td>\n",
       "      <td>1.193046</td>\n",
       "      <td>1.041720</td>\n",
       "      <td>-1.061434</td>\n",
       "      <td>0.0</td>\n",
       "    </tr>\n",
       "    <tr>\n",
       "      <th>4</th>\n",
       "      <td>-1.414214</td>\n",
       "      <td>0.000000</td>\n",
       "      <td>0.000000</td>\n",
       "      <td>1.133893</td>\n",
       "      <td>0.000000</td>\n",
       "      <td>-0.55470</td>\n",
       "      <td>0.727607</td>\n",
       "      <td>0.917663</td>\n",
       "      <td>0.000000</td>\n",
       "      <td>-0.928477</td>\n",
       "      <td>...</td>\n",
       "      <td>-0.693441</td>\n",
       "      <td>-0.170796</td>\n",
       "      <td>0.582246</td>\n",
       "      <td>0.511820</td>\n",
       "      <td>0.070243</td>\n",
       "      <td>-0.742193</td>\n",
       "      <td>1.162969</td>\n",
       "      <td>0.130215</td>\n",
       "      <td>1.061434</td>\n",
       "      <td>0.0</td>\n",
       "    </tr>\n",
       "  </tbody>\n",
       "</table>\n",
       "<p>5 rows × 1230 columns</p>\n",
       "</div>"
      ],
      "text/plain": [
       "         A2        A3        A5        A7       A11      A13       A17  \\\n",
       "0  0.000000  0.577350  0.000000  0.000000  0.000000 -0.27735  0.000000   \n",
       "1  0.707107  0.000000  0.447214  1.511858  0.000000 -1.10940  1.455214   \n",
       "2 -0.707107  0.000000 -0.447214  0.000000  1.206045 -1.10940 -1.455214   \n",
       "3  0.000000 -1.154701  0.000000 -1.511858 -0.904534  0.55470  0.000000   \n",
       "4 -1.414214  0.000000  0.000000  1.133893  0.000000 -0.55470  0.727607   \n",
       "\n",
       "        A19       A23       A29  ...     A9901     A9907     A9923     A9929  \\\n",
       "0  0.917663  1.668115  1.114172  ...  0.532643  0.934355  0.331278 -0.541927   \n",
       "1 -0.688247 -0.208514  0.000000  ...  1.507481  1.547211 -1.264879  0.311106   \n",
       "2  0.458831  0.000000  1.856953  ... -1.286383 -0.874074  0.301162 -1.384925   \n",
       "3  0.458831  1.251086 -1.671258  ... -0.311546  1.587399 -1.415460  1.384925   \n",
       "4  0.917663  0.000000 -0.928477  ... -0.693441 -0.170796  0.582246  0.511820   \n",
       "\n",
       "      A9931     A9941     A9949     A9967     A9973   CM  \n",
       "0  1.264370 -1.384089 -0.421075 -1.302150 -1.862516  0.0  \n",
       "1  1.314543  0.702074  1.584044  0.220364  1.361840  0.0  \n",
       "2 -0.200694  0.140415 -1.142918 -0.030050  0.961299  0.0  \n",
       "3 -0.762636 -0.300889  1.193046  1.041720 -1.061434  0.0  \n",
       "4  0.070243 -0.742193  1.162969  0.130215  1.061434  0.0  \n",
       "\n",
       "[5 rows x 1230 columns]"
      ]
     },
     "execution_count": 21,
     "metadata": {},
     "output_type": "execute_result"
    }
   ],
   "source": [
    "df.head()"
   ]
  },
  {
   "cell_type": "code",
   "execution_count": 22,
   "id": "b5f457ab",
   "metadata": {},
   "outputs": [],
   "source": [
    "X = np.array(df)\n",
    "X = np.delete(X, len(X[0])-1, 1)\n",
    "Y = np.array(df[\"CM\"])"
   ]
  },
  {
   "cell_type": "code",
   "execution_count": 23,
   "id": "8cc8205b",
   "metadata": {},
   "outputs": [
    {
     "data": {
      "text/plain": [
       "(5000, 1229)"
      ]
     },
     "execution_count": 23,
     "metadata": {},
     "output_type": "execute_result"
    }
   ],
   "source": [
    "X.shape"
   ]
  },
  {
   "cell_type": "code",
   "execution_count": 24,
   "id": "4aefe359",
   "metadata": {},
   "outputs": [
    {
     "data": {
      "text/plain": [
       "(5000,)"
      ]
     },
     "execution_count": 24,
     "metadata": {},
     "output_type": "execute_result"
    }
   ],
   "source": [
    "Y.shape"
   ]
  },
  {
   "cell_type": "code",
   "execution_count": 25,
   "id": "171535ed",
   "metadata": {},
   "outputs": [],
   "source": [
    "X_train, X_test, Y_train, Y_test = train_test_split(X, Y, test_size = 0.2, shuffle = False)"
   ]
  },
  {
   "cell_type": "code",
   "execution_count": 26,
   "id": "026dd403",
   "metadata": {},
   "outputs": [],
   "source": [
    "def ma_sampling(x: list, win = 28): # For pretty plots\n",
    "    assert len(x)>win, \"Window too large!\"\n",
    "    cur_sum = sum(x[:win])\n",
    "    cur_pos = win - 1\n",
    "    sampled = []\n",
    "    for i in range(len(x)-win):\n",
    "        sampled.append(cur_sum/win)\n",
    "        cur_sum -= x[cur_pos-win]\n",
    "        cur_pos += 1\n",
    "        cur_sum += x[cur_pos]\n",
    "    return sampled"
   ]
  },
  {
   "cell_type": "markdown",
   "id": "6f8d32a8",
   "metadata": {},
   "source": [
    "## Neural network model"
   ]
  },
  {
   "cell_type": "code",
   "execution_count": 103,
   "id": "6c4ef4a6",
   "metadata": {},
   "outputs": [],
   "source": [
    "DATA_SIZE = len(X[0])\n",
    "N_EPOCHS = 1000\n",
    "N_DISPLAY = 20\n",
    "SAMPLE_SIZE = 50\n",
    "model = nn.Sequential(\n",
    "        nn.Linear(DATA_SIZE, 128),\n",
    "        nn.Tanh(),\n",
    "        nn.Linear(128, 256),\n",
    "        nn.ReLU(),\n",
    "        nn.Linear(256, 128),\n",
    "        nn.Tanh(),\n",
    "        nn.Linear(128, 2),\n",
    "        nn.Sigmoid()\n",
    ")\n",
    "criterion = nn.CrossEntropyLoss() # The MOST inconvinient criterion ever!\n",
    "optimizer = optim.SGD(model.parameters(), lr=0.01)"
   ]
  },
  {
   "cell_type": "code",
   "execution_count": 104,
   "id": "fcba81d6",
   "metadata": {},
   "outputs": [
    {
     "data": {
      "image/png": "[encoded data removed]",
      "text/plain": [
       "<Figure size 864x576 with 2 Axes>"
      ]
     },
     "metadata": {
      "needs_background": "light"
     },
     "output_type": "display_data"
    },
    {
     "name": "stdout",
     "output_type": "stream",
     "text": [
      "Loss\n",
      "\tloss             \t (min:    0.016, max:    0.035, cur:    0.016)\n"
     ]
    },
    {
     "ename": "KeyboardInterrupt",
     "evalue": "",
     "output_type": "error",
     "traceback": [
      "\u001b[0;31m---------------------------------------------------------------------------\u001b[0m",
      "\u001b[0;31mKeyboardInterrupt\u001b[0m                         Traceback (most recent call last)",
      "\u001b[0;32m/var/folders/fn/brkp83r11mj9d9tbm3cygcmh0000gn/T/ipykernel_661/3914441309.py\u001b[0m in \u001b[0;36m<module>\u001b[0;34m\u001b[0m\n\u001b[1;32m     10\u001b[0m         \u001b[0mx\u001b[0m \u001b[0;34m=\u001b[0m \u001b[0mtorch\u001b[0m\u001b[0;34m.\u001b[0m\u001b[0mTensor\u001b[0m\u001b[0;34m(\u001b[0m\u001b[0msample_x\u001b[0m\u001b[0;34m[\u001b[0m\u001b[0mj\u001b[0m\u001b[0;34m]\u001b[0m\u001b[0;34m)\u001b[0m\u001b[0;34m\u001b[0m\u001b[0;34m\u001b[0m\u001b[0m\n\u001b[1;32m     11\u001b[0m         \u001b[0mtarget\u001b[0m \u001b[0;34m=\u001b[0m \u001b[0mtorch\u001b[0m\u001b[0;34m.\u001b[0m\u001b[0mTensor\u001b[0m\u001b[0;34m(\u001b[0m\u001b[0;34m[\u001b[0m\u001b[0mint\u001b[0m\u001b[0;34m(\u001b[0m\u001b[0msample_y\u001b[0m\u001b[0;34m[\u001b[0m\u001b[0mj\u001b[0m\u001b[0;34m]\u001b[0m\u001b[0;34m)\u001b[0m\u001b[0;34m]\u001b[0m\u001b[0;34m)\u001b[0m\u001b[0;34m.\u001b[0m\u001b[0mtype\u001b[0m\u001b[0;34m(\u001b[0m\u001b[0mtorch\u001b[0m\u001b[0;34m.\u001b[0m\u001b[0mLongTensor\u001b[0m\u001b[0;34m)\u001b[0m\u001b[0;34m\u001b[0m\u001b[0;34m\u001b[0m\u001b[0m\n\u001b[0;32m---> 12\u001b[0;31m         \u001b[0moptimizer\u001b[0m\u001b[0;34m.\u001b[0m\u001b[0mzero_grad\u001b[0m\u001b[0;34m(\u001b[0m\u001b[0;34m)\u001b[0m\u001b[0;34m\u001b[0m\u001b[0;34m\u001b[0m\u001b[0m\n\u001b[0m\u001b[1;32m     13\u001b[0m         \u001b[0moutput\u001b[0m \u001b[0;34m=\u001b[0m \u001b[0mmodel\u001b[0m\u001b[0;34m(\u001b[0m\u001b[0mx\u001b[0m\u001b[0;34m)\u001b[0m\u001b[0;34m\u001b[0m\u001b[0;34m\u001b[0m\u001b[0m\n\u001b[1;32m     14\u001b[0m         \u001b[0moutput\u001b[0m \u001b[0;34m=\u001b[0m \u001b[0moutput\u001b[0m\u001b[0;34m.\u001b[0m\u001b[0mreshape\u001b[0m\u001b[0;34m(\u001b[0m\u001b[0;34m(\u001b[0m\u001b[0;36m1\u001b[0m\u001b[0;34m,\u001b[0m\u001b[0;36m2\u001b[0m\u001b[0;34m)\u001b[0m\u001b[0;34m)\u001b[0m\u001b[0;34m.\u001b[0m\u001b[0mfloat\u001b[0m\u001b[0;34m(\u001b[0m\u001b[0;34m)\u001b[0m\u001b[0;34m\u001b[0m\u001b[0;34m\u001b[0m\u001b[0m\n",
      "\u001b[0;32m/usr/local/lib/python3.9/site-packages/torch/optim/optimizer.py\u001b[0m in \u001b[0;36mzero_grad\u001b[0;34m(self, set_to_none)\u001b[0m\n\u001b[1;32m    214\u001b[0m                             \u001b[0;32melse\u001b[0m\u001b[0;34m:\u001b[0m\u001b[0;34m\u001b[0m\u001b[0;34m\u001b[0m\u001b[0m\n\u001b[1;32m    215\u001b[0m                                 \u001b[0mp\u001b[0m\u001b[0;34m.\u001b[0m\u001b[0mgrad\u001b[0m\u001b[0;34m.\u001b[0m\u001b[0mrequires_grad_\u001b[0m\u001b[0;34m(\u001b[0m\u001b[0;32mFalse\u001b[0m\u001b[0;34m)\u001b[0m\u001b[0;34m\u001b[0m\u001b[0;34m\u001b[0m\u001b[0m\n\u001b[0;32m--> 216\u001b[0;31m                             \u001b[0mp\u001b[0m\u001b[0;34m.\u001b[0m\u001b[0mgrad\u001b[0m\u001b[0;34m.\u001b[0m\u001b[0mzero_\u001b[0m\u001b[0;34m(\u001b[0m\u001b[0;34m)\u001b[0m\u001b[0;34m\u001b[0m\u001b[0;34m\u001b[0m\u001b[0m\n\u001b[0m\u001b[1;32m    217\u001b[0m \u001b[0;34m\u001b[0m\u001b[0m\n\u001b[1;32m    218\u001b[0m     \u001b[0;32mdef\u001b[0m \u001b[0mstep\u001b[0m\u001b[0;34m(\u001b[0m\u001b[0mself\u001b[0m\u001b[0;34m,\u001b[0m \u001b[0mclosure\u001b[0m\u001b[0;34m)\u001b[0m\u001b[0;34m:\u001b[0m\u001b[0;34m\u001b[0m\u001b[0;34m\u001b[0m\u001b[0m\n",
      "\u001b[0;31mKeyboardInterrupt\u001b[0m: "
     ]
    }
   ],
   "source": [
    "losses = []\n",
    "plotlosses = PlotLosses()\n",
    "for i in tnrange(N_EPOCHS):\n",
    "    avg_loss_lr = 0.0\n",
    "    indices = np.random.choice(X_train.shape[0], SAMPLE_SIZE, replace=False)\n",
    "    sample_x = X_train[indices]\n",
    "    sample_y = Y_train[indices]\n",
    "    avg_loss = 0.0\n",
    "    for j in range(SAMPLE_SIZE):\n",
    "        x = torch.Tensor(sample_x[j])\n",
    "        target = torch.Tensor([int(sample_y[j])]).type(torch.LongTensor)\n",
    "        optimizer.zero_grad()   \n",
    "        output = model(x)\n",
    "        output = output.reshape((1,2)).float()\n",
    "        loss = criterion(output, target)\n",
    "        avg_loss += float(loss)\n",
    "        loss.backward()\n",
    "        optimizer.step()\n",
    "    avg_loss /= SAMPLE_SIZE\n",
    "    avg_loss_lr += avg_loss\n",
    "    if i % N_DISPLAY == 0 and i > 0:\n",
    "        avg_loss_lr /= N_DISPLAY\n",
    "        plotlosses.update({\"loss\": avg_loss_lr})\n",
    "        plotlosses.send()\n",
    "    losses.append(avg_loss)"
   ]
  },
  {
   "cell_type": "code",
   "execution_count": 105,
   "id": "fa0de4e3",
   "metadata": {},
   "outputs": [
    {
     "data": {
      "image/png": "[encoded data removed]",
      "text/plain": [
       "<Figure size 432x288 with 1 Axes>"
      ]
     },
     "metadata": {
      "needs_background": "light"
     },
     "output_type": "display_data"
    }
   ],
   "source": [
    "plt.plot(ma_sampling(losses))\n",
    "plt.show()"
   ]
  },
  {
   "cell_type": "code",
   "execution_count": 106,
   "id": "fbd698aa",
   "metadata": {},
   "outputs": [],
   "source": [
    "x=torch.tensor(X_train[50], dtype=torch.double).float()"
   ]
  },
  {
   "cell_type": "code",
   "execution_count": 107,
   "id": "f18281cf",
   "metadata": {},
   "outputs": [
    {
     "data": {
      "application/vnd.jupyter.widget-view+json": {
       "model_id": "cdb00669e1e34e698c65b9f9d2139df5",
       "version_major": 2,
       "version_minor": 0
      },
      "text/plain": [
       "  0%|          | 0/1000 [00:00<?, ?it/s]"
      ]
     },
     "metadata": {},
     "output_type": "display_data"
    },
    {
     "name": "stdout",
     "output_type": "stream",
     "text": [
      "Acc: 0.684\n"
     ]
    }
   ],
   "source": [
    "err_cnt = 0\n",
    "correct_cnt = 0\n",
    "for i in tnrange(len(X_test)):\n",
    "    x = torch.tensor(X_test[i], dtype=torch.double).float()\n",
    "    y = Y_test[i]\n",
    "    _y = model(x)\n",
    "    if not round(y) != round(float(_y[0])):\n",
    "        err_cnt+=1\n",
    "    else:\n",
    "        correct_cnt+=1\n",
    "print(\"Acc: %.3f\"%(correct_cnt/(correct_cnt+err_cnt)))"
   ]
  },
  {
   "cell_type": "markdown",
   "id": "6a863e68",
   "metadata": {},
   "source": [
    "As it can be seen neural network are absolutely useless for classifying _~~anything~~_ elliptic curves."
   ]
  },
  {
   "cell_type": "code",
   "execution_count": null,
   "id": "4d5bba66",
   "metadata": {},
   "outputs": [],
   "source": []
  }
 ],
 "metadata": {
  "kernelspec": {
   "display_name": "Python 3 (ipykernel)",
   "language": "python",
   "name": "python3"
  },
  "language_info": {
   "codemirror_mode": {
    "name": "ipython",
    "version": 3
   },
   "file_extension": ".py",
   "mimetype": "text/x-python",
   "name": "python",
   "nbconvert_exporter": "python",
   "pygments_lexer": "ipython3",
   "version": "3.9.6"
  }
 },
 "nbformat": 4,
 "nbformat_minor": 5
}
