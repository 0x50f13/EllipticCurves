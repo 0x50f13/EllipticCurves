{
 "cells": [
  {
   "cell_type": "markdown",
   "id": "above-cargo",
   "metadata": {},
   "source": [
    "# Classifying elliptic curves by complex multiplication"
   ]
  },
  {
   "cell_type": "code",
   "execution_count": 1,
   "id": "detected-delay",
   "metadata": {},
   "outputs": [],
   "source": [
    "import pandas as pd\n",
    "import numpy as np \n",
    "from sklearn.model_selection import train_test_split\n",
    "from tqdm.notebook import *\n",
    "from livelossplot import PlotLosses\n",
    "import torch\n",
    "import torch.nn as nn\n",
    "import torch.optim as optim\n",
    "import torch.nn.functional as F\n",
    "import matplotlib.pyplot as plt"
   ]
  },
  {
   "cell_type": "code",
   "execution_count": 2,
   "id": "nearby-country",
   "metadata": {},
   "outputs": [],
   "source": [
    "df = pd.read_csv(\"output/dataset.csv\")"
   ]
  },
  {
   "cell_type": "code",
   "execution_count": 3,
   "id": "deluxe-central",
   "metadata": {},
   "outputs": [
    {
     "data": {
      "text/html": [
       "<div>\n",
       "<style scoped>\n",
       "    .dataframe tbody tr th:only-of-type {\n",
       "        vertical-align: middle;\n",
       "    }\n",
       "\n",
       "    .dataframe tbody tr th {\n",
       "        vertical-align: top;\n",
       "    }\n",
       "\n",
       "    .dataframe thead th {\n",
       "        text-align: right;\n",
       "    }\n",
       "</style>\n",
       "<table border=\"1\" class=\"dataframe\">\n",
       "  <thead>\n",
       "    <tr style=\"text-align: right;\">\n",
       "      <th></th>\n",
       "      <th>A2</th>\n",
       "      <th>A3</th>\n",
       "      <th>A5</th>\n",
       "      <th>A7</th>\n",
       "      <th>A11</th>\n",
       "      <th>A13</th>\n",
       "      <th>A17</th>\n",
       "      <th>A19</th>\n",
       "      <th>A23</th>\n",
       "      <th>A29</th>\n",
       "      <th>...</th>\n",
       "      <th>A9901</th>\n",
       "      <th>A9907</th>\n",
       "      <th>A9923</th>\n",
       "      <th>A9929</th>\n",
       "      <th>A9931</th>\n",
       "      <th>A9941</th>\n",
       "      <th>A9949</th>\n",
       "      <th>A9967</th>\n",
       "      <th>A9973</th>\n",
       "      <th>CM</th>\n",
       "    </tr>\n",
       "  </thead>\n",
       "  <tbody>\n",
       "    <tr>\n",
       "      <th>0</th>\n",
       "      <td>0.000000</td>\n",
       "      <td>0.577350</td>\n",
       "      <td>0.000000</td>\n",
       "      <td>0.000000</td>\n",
       "      <td>0.000000</td>\n",
       "      <td>-0.27735</td>\n",
       "      <td>0.000000</td>\n",
       "      <td>0.917663</td>\n",
       "      <td>1.668115</td>\n",
       "      <td>1.114172</td>\n",
       "      <td>...</td>\n",
       "      <td>0.532643</td>\n",
       "      <td>0.934355</td>\n",
       "      <td>0.331278</td>\n",
       "      <td>-0.541927</td>\n",
       "      <td>1.264370</td>\n",
       "      <td>-1.384089</td>\n",
       "      <td>-0.421075</td>\n",
       "      <td>-1.302150</td>\n",
       "      <td>-1.862516</td>\n",
       "      <td>0.0</td>\n",
       "    </tr>\n",
       "    <tr>\n",
       "      <th>1</th>\n",
       "      <td>0.707107</td>\n",
       "      <td>0.000000</td>\n",
       "      <td>0.447214</td>\n",
       "      <td>1.511858</td>\n",
       "      <td>0.000000</td>\n",
       "      <td>-1.10940</td>\n",
       "      <td>1.455214</td>\n",
       "      <td>-0.688247</td>\n",
       "      <td>-0.208514</td>\n",
       "      <td>0.000000</td>\n",
       "      <td>...</td>\n",
       "      <td>1.507481</td>\n",
       "      <td>1.547211</td>\n",
       "      <td>-1.264879</td>\n",
       "      <td>0.311106</td>\n",
       "      <td>1.314543</td>\n",
       "      <td>0.702074</td>\n",
       "      <td>1.584044</td>\n",
       "      <td>0.220364</td>\n",
       "      <td>1.361840</td>\n",
       "      <td>0.0</td>\n",
       "    </tr>\n",
       "    <tr>\n",
       "      <th>2</th>\n",
       "      <td>-0.707107</td>\n",
       "      <td>0.000000</td>\n",
       "      <td>-0.447214</td>\n",
       "      <td>0.000000</td>\n",
       "      <td>1.206045</td>\n",
       "      <td>-1.10940</td>\n",
       "      <td>-1.455214</td>\n",
       "      <td>0.458831</td>\n",
       "      <td>0.000000</td>\n",
       "      <td>1.856953</td>\n",
       "      <td>...</td>\n",
       "      <td>-1.286383</td>\n",
       "      <td>-0.874074</td>\n",
       "      <td>0.301162</td>\n",
       "      <td>-1.384925</td>\n",
       "      <td>-0.200694</td>\n",
       "      <td>0.140415</td>\n",
       "      <td>-1.142918</td>\n",
       "      <td>-0.030050</td>\n",
       "      <td>0.961299</td>\n",
       "      <td>0.0</td>\n",
       "    </tr>\n",
       "    <tr>\n",
       "      <th>3</th>\n",
       "      <td>0.000000</td>\n",
       "      <td>-1.154701</td>\n",
       "      <td>0.000000</td>\n",
       "      <td>-1.511858</td>\n",
       "      <td>-0.904534</td>\n",
       "      <td>0.55470</td>\n",
       "      <td>0.000000</td>\n",
       "      <td>0.458831</td>\n",
       "      <td>1.251086</td>\n",
       "      <td>-1.671258</td>\n",
       "      <td>...</td>\n",
       "      <td>-0.311546</td>\n",
       "      <td>1.587399</td>\n",
       "      <td>-1.415460</td>\n",
       "      <td>1.384925</td>\n",
       "      <td>-0.762636</td>\n",
       "      <td>-0.300889</td>\n",
       "      <td>1.193046</td>\n",
       "      <td>1.041720</td>\n",
       "      <td>-1.061434</td>\n",
       "      <td>0.0</td>\n",
       "    </tr>\n",
       "    <tr>\n",
       "      <th>4</th>\n",
       "      <td>-1.414214</td>\n",
       "      <td>0.000000</td>\n",
       "      <td>0.000000</td>\n",
       "      <td>1.133893</td>\n",
       "      <td>0.000000</td>\n",
       "      <td>-0.55470</td>\n",
       "      <td>0.727607</td>\n",
       "      <td>0.917663</td>\n",
       "      <td>0.000000</td>\n",
       "      <td>-0.928477</td>\n",
       "      <td>...</td>\n",
       "      <td>-0.693441</td>\n",
       "      <td>-0.170796</td>\n",
       "      <td>0.582246</td>\n",
       "      <td>0.511820</td>\n",
       "      <td>0.070243</td>\n",
       "      <td>-0.742193</td>\n",
       "      <td>1.162969</td>\n",
       "      <td>0.130215</td>\n",
       "      <td>1.061434</td>\n",
       "      <td>0.0</td>\n",
       "    </tr>\n",
       "  </tbody>\n",
       "</table>\n",
       "<p>5 rows × 1230 columns</p>\n",
       "</div>"
      ],
      "text/plain": [
       "         A2        A3        A5        A7       A11      A13       A17  \\\n",
       "0  0.000000  0.577350  0.000000  0.000000  0.000000 -0.27735  0.000000   \n",
       "1  0.707107  0.000000  0.447214  1.511858  0.000000 -1.10940  1.455214   \n",
       "2 -0.707107  0.000000 -0.447214  0.000000  1.206045 -1.10940 -1.455214   \n",
       "3  0.000000 -1.154701  0.000000 -1.511858 -0.904534  0.55470  0.000000   \n",
       "4 -1.414214  0.000000  0.000000  1.133893  0.000000 -0.55470  0.727607   \n",
       "\n",
       "        A19       A23       A29  ...     A9901     A9907     A9923     A9929  \\\n",
       "0  0.917663  1.668115  1.114172  ...  0.532643  0.934355  0.331278 -0.541927   \n",
       "1 -0.688247 -0.208514  0.000000  ...  1.507481  1.547211 -1.264879  0.311106   \n",
       "2  0.458831  0.000000  1.856953  ... -1.286383 -0.874074  0.301162 -1.384925   \n",
       "3  0.458831  1.251086 -1.671258  ... -0.311546  1.587399 -1.415460  1.384925   \n",
       "4  0.917663  0.000000 -0.928477  ... -0.693441 -0.170796  0.582246  0.511820   \n",
       "\n",
       "      A9931     A9941     A9949     A9967     A9973   CM  \n",
       "0  1.264370 -1.384089 -0.421075 -1.302150 -1.862516  0.0  \n",
       "1  1.314543  0.702074  1.584044  0.220364  1.361840  0.0  \n",
       "2 -0.200694  0.140415 -1.142918 -0.030050  0.961299  0.0  \n",
       "3 -0.762636 -0.300889  1.193046  1.041720 -1.061434  0.0  \n",
       "4  0.070243 -0.742193  1.162969  0.130215  1.061434  0.0  \n",
       "\n",
       "[5 rows x 1230 columns]"
      ]
     },
     "execution_count": 3,
     "metadata": {},
     "output_type": "execute_result"
    }
   ],
   "source": [
    "df.head()"
   ]
  },
  {
   "cell_type": "code",
   "execution_count": 4,
   "id": "b5f457ab",
   "metadata": {},
   "outputs": [],
   "source": [
    "X = np.array(df)\n",
    "X = np.delete(X, len(X[0])-1, 1)\n",
    "Y = np.array(df[\"CM\"])"
   ]
  },
  {
   "cell_type": "code",
   "execution_count": 5,
   "id": "8cc8205b",
   "metadata": {},
   "outputs": [
    {
     "data": {
      "text/plain": [
       "(5000, 1229)"
      ]
     },
     "execution_count": 5,
     "metadata": {},
     "output_type": "execute_result"
    }
   ],
   "source": [
    "X.shape"
   ]
  },
  {
   "cell_type": "code",
   "execution_count": 6,
   "id": "4aefe359",
   "metadata": {},
   "outputs": [
    {
     "data": {
      "text/plain": [
       "(5000,)"
      ]
     },
     "execution_count": 6,
     "metadata": {},
     "output_type": "execute_result"
    }
   ],
   "source": [
    "Y.shape"
   ]
  },
  {
   "cell_type": "code",
   "execution_count": 7,
   "id": "171535ed",
   "metadata": {},
   "outputs": [],
   "source": [
    "X_train, X_test, Y_train, Y_test = train_test_split(X, Y, test_size = 0.3, shuffle = True)"
   ]
  },
  {
   "cell_type": "code",
   "execution_count": 8,
   "id": "2138f9d7",
   "metadata": {},
   "outputs": [],
   "source": [
    "def ma_sampling(x: list, win = 28): # For pretty plots\n",
    "    assert len(x)>win, \"Window too large!\"\n",
    "    cur_sum = sum(x[:win])\n",
    "    cur_pos = win - 1\n",
    "    sampled = []\n",
    "    for i in range(len(x)-win):\n",
    "        sampled.append(cur_sum/win)\n",
    "        cur_sum -= x[cur_pos-win]\n",
    "        cur_pos += 1\n",
    "        cur_sum += x[cur_pos]\n",
    "    return sampled"
   ]
  },
  {
   "cell_type": "code",
   "execution_count": 9,
   "id": "e7f5ccc6",
   "metadata": {},
   "outputs": [],
   "source": [
    "def acc(X,Y):\n",
    "    err_cnt = 0\n",
    "    correct_cnt = 0\n",
    "    for i in range(len(X)):\n",
    "        x = torch.tensor(X[i], dtype=torch.double).float()\n",
    "        y = Y[i]\n",
    "        _y = model(x)\n",
    "        if _y[0] > _y[1]:\n",
    "            cls = 0\n",
    "        else:\n",
    "            cls = 1\n",
    "        if round(y) != cls:\n",
    "            err_cnt+=1\n",
    "        else:\n",
    "            correct_cnt+=1\n",
    "    return correct_cnt/(correct_cnt+err_cnt)"
   ]
  },
  {
   "cell_type": "markdown",
   "id": "6f8d32a8",
   "metadata": {},
   "source": [
    "## Neural network model"
   ]
  },
  {
   "cell_type": "code",
   "execution_count": 10,
   "id": "6c4ef4a6",
   "metadata": {},
   "outputs": [
    {
     "name": "stderr",
     "output_type": "stream",
     "text": [
      "/usr/local/lib/python3.9/site-packages/torch/nn/modules/container.py:139: UserWarning: Implicit dimension choice for softmax has been deprecated. Change the call to include dim=X as an argument.\n",
      "  input = module(input)\n"
     ]
    },
    {
     "name": "stdout",
     "output_type": "stream",
     "text": [
      "Untrained accuracy(test): 0.509\n",
      "Untrained accuracy(train): 0.518\n"
     ]
    }
   ],
   "source": [
    "DATA_SIZE = len(X[0])\n",
    "N_EPOCHS = 2000\n",
    "N_DISPLAY = 20\n",
    "SAMPLE_SIZE = 100\n",
    "A=314\n",
    "k=4\n",
    "model = nn.Sequential(\n",
    "        nn.Linear(DATA_SIZE, A),\n",
    "        nn.Dropout(0.1),\n",
    "        nn.Tanh(),\n",
    "        nn.Linear(A, k*A),\n",
    "        nn.LeakyReLU(),\n",
    "        nn.Linear(k*A, k*A),\n",
    "        nn.ELU(),\n",
    "        nn.Linear(k*A, k*A),\n",
    "        nn.LeakyReLU(),\n",
    "        nn.Linear(k*A, A),\n",
    "        nn.Tanh(),\n",
    "        nn.Linear(A, 2),\n",
    "        nn.Softmax()\n",
    ")\n",
    "criterion = nn.CrossEntropyLoss() # The MOST inconvinient criterion ever!\n",
    "optimizer = optim.SGD(model.parameters(), lr=0.01)\n",
    "print(\"Untrained accuracy(test): %.3f\"%acc(X_test, Y_test))\n",
    "print(\"Untrained accuracy(train): %.3f\"%acc(X_train, Y_train))"
   ]
  },
  {
   "cell_type": "code",
   "execution_count": 11,
   "id": "fcba81d6",
   "metadata": {},
   "outputs": [
    {
     "data": {
      "image/png": "[encoded data removed]",
      "text/plain": [
       "<Figure size 864x576 with 2 Axes>"
      ]
     },
     "metadata": {
      "needs_background": "light"
     },
     "output_type": "display_data"
    },
    {
     "name": "stdout",
     "output_type": "stream",
     "text": [
      "Accuracy\n",
      "\tAccuracy         \t (min:    0.494, max:    0.657, cur:    0.654)\n",
      "Loss\n",
      "\tLoss             \t (min:    0.316, max:    0.724, cur:    0.326)\n"
     ]
    }
   ],
   "source": [
    "losses = []\n",
    "plotlosses = PlotLosses()\n",
    "avg_loss_lr = 0.0\n",
    "avg_accuracy = 0.0\n",
    "for i in tnrange(N_EPOCHS):\n",
    "    indices = np.random.choice(X_train.shape[0], SAMPLE_SIZE, replace=False)\n",
    "    sample_x = X_train[indices]\n",
    "    sample_y = Y_train[indices]\n",
    "    avg_loss = 0.0\n",
    "    for j in range(SAMPLE_SIZE):\n",
    "        x = torch.Tensor(sample_x[j])\n",
    "        target = torch.Tensor([int(sample_y[j])]).type(torch.LongTensor)\n",
    "        optimizer.zero_grad()   \n",
    "        output = model(x)\n",
    "        output = output.reshape((1,2)).float()\n",
    "        loss = criterion(output, target)\n",
    "        avg_loss += float(loss)\n",
    "        loss.backward()\n",
    "        optimizer.step()\n",
    "    avg_loss /= SAMPLE_SIZE\n",
    "    avg_loss_lr += avg_loss\n",
    "    #avg_accuracy += acc(X_test, Y_test)\n",
    "    if i % N_DISPLAY == 0 and i > 0:\n",
    "        avg_loss_lr /= N_DISPLAY\n",
    "        #avg_accuracy /= N_DISPLAY\n",
    "        plotlosses.update({\"Loss\": avg_loss_lr, \"Accuracy\": acc(X_test, Y_test)})\n",
    "        plotlosses.send()\n",
    "        avg_loss_lr = 0.0\n",
    "        avg_accuracy = 0.0\n",
    "    losses.append(avg_loss)"
   ]
  },
  {
   "cell_type": "code",
   "execution_count": 12,
   "id": "fa0de4e3",
   "metadata": {},
   "outputs": [
    {
     "data": {
      "image/png": "[encoded data removed]",
      "text/plain": [
       "<Figure size 432x288 with 1 Axes>"
      ]
     },
     "metadata": {
      "needs_background": "light"
     },
     "output_type": "display_data"
    }
   ],
   "source": [
    "plt.plot(ma_sampling(losses))\n",
    "plt.show()"
   ]
  },
  {
   "cell_type": "code",
   "execution_count": 13,
   "id": "f18281cf",
   "metadata": {},
   "outputs": [
    {
     "name": "stdout",
     "output_type": "stream",
     "text": [
      "Acc(train): 0.989\n",
      "Acc(test): 0.635\n"
     ]
    }
   ],
   "source": [
    "print(\"Acc(train): %.3f\"%acc(X_train, Y_train))\n",
    "print(\"Acc(test): %.3f\"%acc(X_test, Y_test))"
   ]
  },
  {
   "cell_type": "markdown",
   "id": "6a863e68",
   "metadata": {},
   "source": [
    "As it can be seen neural networks are absolutely useless for classifying _~~anything~~_ elliptic curves."
   ]
  },
  {
   "cell_type": "markdown",
   "id": "a19e267a",
   "metadata": {},
   "source": [
    "## Naive Bayesian classifier"
   ]
  },
  {
   "cell_type": "code",
   "execution_count": 14,
   "id": "3ed01547",
   "metadata": {},
   "outputs": [
    {
     "name": "stdout",
     "output_type": "stream",
     "text": [
      "Acc: 0.969\n"
     ]
    }
   ],
   "source": [
    "from sklearn.naive_bayes import GaussianNB\n",
    "from sklearn import metrics\n",
    "naive_bayes = GaussianNB()\n",
    "naive_bayes.fit(X_train , Y_train)\n",
    "Y_predicted = naive_bayes.predict(X_test)\n",
    "print(\"Acc: %.3f\" % metrics.accuracy_score(Y_predicted , Y_test))"
   ]
  },
  {
   "cell_type": "markdown",
   "id": "e8a47e52",
   "metadata": {},
   "source": [
    "## Convolutional neural network"
   ]
  },
  {
   "cell_type": "code",
   "execution_count": 41,
   "id": "e2797930",
   "metadata": {},
   "outputs": [],
   "source": [
    "model = nn.Sequential(\n",
    "        nn.Conv1d(1, 1, 64),\n",
    "        nn.MaxPool1d(8),\n",
    "        nn.LeakyReLU(),\n",
    "        nn.Linear(145,290),\n",
    "        nn.Tanh(),\n",
    "        nn.Linear(290,145),\n",
    "        nn.LeakyReLU(),\n",
    "        nn.Linear(145,2)\n",
    ")"
   ]
  },
  {
   "cell_type": "code",
   "execution_count": 42,
   "id": "4888c8cb",
   "metadata": {},
   "outputs": [],
   "source": [
    "criterion = nn.CrossEntropyLoss()\n",
    "optimizer = optim.SGD(model.parameters(), lr=0.01)"
   ]
  },
  {
   "cell_type": "code",
   "execution_count": 43,
   "id": "2574eb3b",
   "metadata": {},
   "outputs": [],
   "source": [
    "def acc(X,Y):\n",
    "    err_cnt = 0\n",
    "    correct_cnt = 0\n",
    "    for i in range(len(X)):\n",
    "        x = torch.tensor(X[i], dtype=torch.double).float().reshape((1,1,1229))\n",
    "        y = Y[i]\n",
    "        _y = model(x)\n",
    "        if _y[0][0][0] > _y[0][0][1]:\n",
    "            cls = 0\n",
    "        else:\n",
    "            cls = 1\n",
    "        if round(y) != cls:\n",
    "            err_cnt+=1\n",
    "        else:\n",
    "            correct_cnt+=1\n",
    "    return correct_cnt/(correct_cnt+err_cnt)"
   ]
  },
  {
   "cell_type": "code",
   "execution_count": 44,
   "id": "8cdb39c4",
   "metadata": {},
   "outputs": [
    {
     "data": {
      "image/png": "[encoded data removed]",
      "text/plain": [
       "<Figure size 864x576 with 2 Axes>"
      ]
     },
     "metadata": {
      "needs_background": "light"
     },
     "output_type": "display_data"
    },
    {
     "name": "stdout",
     "output_type": "stream",
     "text": [
      "Accuracy\n",
      "\tAccuracy         \t (min:    0.750, max:    0.977, cur:    0.976)\n",
      "Loss\n",
      "\tLoss             \t (min:    0.000, max:    0.688, cur:    0.000)\n"
     ]
    }
   ],
   "source": [
    "DATA_SIZE = len(X[0])\n",
    "N_EPOCHS = 800\n",
    "N_DISPLAY = 20\n",
    "SAMPLE_SIZE = 100\n",
    "losses = []\n",
    "plotlosses = PlotLosses()\n",
    "avg_loss_lr = 0.0\n",
    "avg_accuracy = 0.0\n",
    "for i in tnrange(N_EPOCHS):\n",
    "    indices = np.random.choice(X_train.shape[0], SAMPLE_SIZE, replace=False)\n",
    "    sample_x = X_train[indices]\n",
    "    sample_y = Y_train[indices]\n",
    "    avg_loss = 0.0\n",
    "    for j in range(SAMPLE_SIZE):\n",
    "        x = torch.Tensor(sample_x[j]).reshape((1,1,1229))\n",
    "        target = torch.Tensor([int(sample_y[j])]).type(torch.LongTensor)\n",
    "        optimizer.zero_grad()   \n",
    "        output = model(x)\n",
    "        output = output[0]\n",
    "        loss = criterion(output, target)\n",
    "        avg_loss += float(loss)\n",
    "        loss.backward()\n",
    "        optimizer.step()\n",
    "    avg_loss /= SAMPLE_SIZE\n",
    "    avg_loss_lr += avg_loss\n",
    "    #avg_accuracy += acc(X_test, Y_test)\n",
    "    if i % N_DISPLAY == 0 and i > 0:\n",
    "        avg_loss_lr /= N_DISPLAY\n",
    "        #avg_accuracy /= N_DISPLAY\n",
    "        plotlosses.update({\"Loss\": avg_loss_lr, \"Accuracy\": acc(X_test, Y_test)})\n",
    "        plotlosses.send()\n",
    "        avg_loss_lr = 0.0\n",
    "        avg_accuracy = 0.0\n",
    "    losses.append(avg_loss)"
   ]
  },
  {
   "cell_type": "code",
   "execution_count": 35,
   "id": "85624187",
   "metadata": {},
   "outputs": [
    {
     "name": "stdout",
     "output_type": "stream",
     "text": [
      "Acc: 0.975\n"
     ]
    }
   ],
   "source": [
    "print(\"Acc: %.3f\" % acc(X_test, Y_test)) "
   ]
  },
  {
   "cell_type": "markdown",
   "id": "c5dc6a3b",
   "metadata": {},
   "source": [
    "Is this magic of random intialization?...or convolutional networks really suitable for working with big vectors? Anyway, lets save this network:"
   ]
  },
  {
   "cell_type": "code",
   "execution_count": 36,
   "id": "cc9a9ec4",
   "metadata": {},
   "outputs": [],
   "source": [
    "torch.save(model, \"output/magic.th\")"
   ]
  },
  {
   "cell_type": "code",
   "execution_count": null,
   "id": "d1354c14",
   "metadata": {},
   "outputs": [],
   "source": []
  }
 ],
 "metadata": {
  "kernelspec": {
   "display_name": "Python 3 (ipykernel)",
   "language": "python",
   "name": "python3"
  },
  "language_info": {
   "codemirror_mode": {
    "name": "ipython",
    "version": 3
   },
   "file_extension": ".py",
   "mimetype": "text/x-python",
   "name": "python",
   "nbconvert_exporter": "python",
   "pygments_lexer": "ipython3",
   "version": "3.9.6"
  }
 },
 "nbformat": 4,
 "nbformat_minor": 5
}
